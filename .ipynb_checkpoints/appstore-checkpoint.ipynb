{
 "cells": [
  {
   "cell_type": "markdown",
   "id": "9cda3ecd-1d2c-4258-a4ff-144be5cdb62e",
   "metadata": {},
   "source": [
    "# App Store Analysis\n",
    "\n",
    "## Using Data Analytics to Inform Business Strategy"
   ]
  },
  {
   "cell_type": "markdown",
   "id": "5ad8551a-f36e-474d-aaed-831a0d9a658c",
   "metadata": {},
   "source": [
    "## 1. Project Design\n",
    "\n",
    "### 1.1 Company Background\n",
    "\n",
    "The company XYZ is in the business of building Android and iOS mobile apps. These apps are free to download and install, and they are distributed through Google Play Store and the Apple App Store.\n",
    "\n",
    "The company's main source of revenue is in-app advertising. This posits the business model as volume driven - scale in terms of the number of users becomes very important. The more the number of users who see and engage with the ads, proportionally better is the revenue opportunity.\n",
    "\n",
    "### 1.2 Business Challenge\n",
    "\n",
    "The senior management team is meeting for the annual strategy event to decide on allocation of resources and future app development roadmap. The team is seeking inputs from the business strategy group that will help the company maximize return-on-investment(ROI) opportunities. \n",
    "\n",
    "### 1.3 Project Scope\n",
    "\n",
    "Our goal for this project is to offer actionable insights that are backed by data. Based on our understanding of the company's business model, we know that the biggest driver of ROI is the number of users for an app - the revenue opportunity is directly proportional. We will focus our exploration on this topic. \n",
    "\n",
    "Our project scope is to analyze app store data and identify the type of apps that are likely to attract more users. Such actionable intelligence can help optimize revenue and the company can focus on creating the kind of apps that are popular.\n",
    "\n",
    "Our key requirements are as follows:\n",
    "\n",
    "- We are interested in free apps only\n",
    "- We are interested in apps in English language only\n",
    "\n",
    "\n",
    "### 1.4 Sources of data\n",
    "\n",
    "Apple Store Data: https://www.kaggle.com/ramamet4/app-store-apple-data-set-10k-apps. This dataset contains ~7000 iOS apps as of July 2017.\n",
    "\n",
    "Google Play Store Data: https://www.kaggle.com/lava18/google-play-store-apps. This dataset contains approximately 10,000 Android apps as of August 2018."
   ]
  },
  {
   "cell_type": "markdown",
   "id": "f72df293-e9ba-4a4e-b8f9-9195a0d2e8b6",
   "metadata": {},
   "source": [
    "## 2. Data Preparation"
   ]
  },
  {
   "cell_type": "markdown",
   "id": "5e31ea31-afd3-43cd-85c7-6fbda53c6bfd",
   "metadata": {},
   "source": [
    "### 2.1 Open Apple Play Store and Google Play Store data sets"
   ]
  },
  {
   "cell_type": "code",
   "execution_count": 60,
   "id": "709242a4-8ba1-4128-96e9-2f922d447ee8",
   "metadata": {},
   "outputs": [],
   "source": [
    "#Open Google Play Store and Apple Store datasets and save them as list of lists.\n",
    "\n",
    "from csv import reader\n",
    "\n",
    "#Apple Store Dataset\n",
    "opened_file = open(\"./AppleStore.csv\")\n",
    "read_file = reader(opened_file)\n",
    "ios = list(read_file)\n",
    "ios_header = ios[0]\n",
    "ios = ios[1:]\n",
    "\n",
    "#Google Play Store Dataset\n",
    "opened_file = open(\"./googleplaystore.csv\")\n",
    "read_file = reader(opened_file)\n",
    "android = list(read_file)\n",
    "android_header = android[0]\n",
    "android = android[1:]"
   ]
  },
  {
   "cell_type": "markdown",
   "id": "90f55e48-df25-4b5f-ba7d-b88dfac525cd",
   "metadata": {},
   "source": [
    "### 2.2 Create explore_data() function"
   ]
  },
  {
   "cell_type": "code",
   "execution_count": 61,
   "id": "42383358-c494-4689-abeb-b5f6bdb9a1e0",
   "metadata": {
    "jupyter": {
     "source_hidden": true
    },
    "tags": []
   },
   "outputs": [],
   "source": [
    "# Defining a function to make it easy to print data\n",
    "\n",
    "def explore_data(dataset, start, end, rows_and_columns=False):\n",
    "    dataset_slice = dataset[start:end]\n",
    "    \n",
    "    for row in dataset_slice:\n",
    "        print(row)\n",
    "        print(\"\\n\") #Add a new empty line after each row\n",
    "        \n",
    "    if rows_and_columns:\n",
    "        print(\"Number of rows: \" + str(len(dataset)))\n",
    "        print(\"Number of columns: \" + str(len(dataset[0])))"
   ]
  },
  {
   "cell_type": "markdown",
   "id": "a7834cc8-ff00-4c92-8c58-6d5788294772",
   "metadata": {},
   "source": [
    "### 2.3 Exploring the datasets\n",
    "\n",
    "Let's look at the structure of the two datasets that we have created. For each dataset, we would like to know the following:\n",
    "\n",
    "- Number of columns in each dataset to learn about the headers\n",
    "- Number of rows in each dataset to learn about the total number of entries\n",
    "\n",
    "Let's use the explore_data() function that we created to gather these insights."
   ]
  },
  {
   "cell_type": "markdown",
   "id": "c3733b48-7560-480d-94ac-884261285428",
   "metadata": {},
   "source": [
    "#### 2.3.1 Exploring the iOS dataset"
   ]
  },
  {
   "cell_type": "code",
   "execution_count": 62,
   "id": "b59b695e-7646-4402-b0ab-d6d05773870f",
   "metadata": {},
   "outputs": [
    {
     "name": "stdout",
     "output_type": "stream",
     "text": [
      "ios header:\n",
      " ['id', 'track_name', 'size_bytes', 'currency', 'price', 'rating_count_tot', 'rating_count_ver', 'user_rating', 'user_rating_ver', 'ver', 'cont_rating', 'prime_genre', 'sup_devices.num', 'ipadSc_urls.num', 'lang.num', 'vpp_lic'] \n",
      "\n",
      "['284882215', 'Facebook', '389879808', 'USD', '0.0', '2974676', '212', '3.5', '3.5', '95.0', '4+', 'Social Networking', '37', '1', '29', '1']\n",
      "\n",
      "\n",
      "['389801252', 'Instagram', '113954816', 'USD', '0.0', '2161558', '1289', '4.5', '4.0', '10.23', '12+', 'Photo & Video', '37', '0', '29', '1']\n",
      "\n",
      "\n",
      "Number of rows: 7197\n",
      "Number of columns: 16\n"
     ]
    }
   ],
   "source": [
    "print(\"ios header:\\n\", ios_header, \"\\n\")\n",
    "explore_data(ios, 0, 2, True)"
   ]
  },
  {
   "cell_type": "markdown",
   "id": "f192ec2d-f784-4e3a-8f8e-d10600dc2b48",
   "metadata": {},
   "source": [
    "#### 2.3.2 Exploring the android dataset"
   ]
  },
  {
   "cell_type": "code",
   "execution_count": 68,
   "id": "60f41b66-06f5-4ea2-882d-afc927ee913c",
   "metadata": {},
   "outputs": [
    {
     "name": "stdout",
     "output_type": "stream",
     "text": [
      "android header:\n",
      " ['App', 'Category', 'Rating', 'Reviews', 'Size', 'Installs', 'Type', 'Price', 'Content Rating', 'Genres', 'Last Updated', 'Current Ver', 'Android Ver'] \n",
      "\n",
      "['Photo Editor & Candy Camera & Grid & ScrapBook', 'ART_AND_DESIGN', '4.1', '159', '19M', '10,000+', 'Free', '0', 'Everyone', 'Art & Design', 'January 7, 2018', '1.0.0', '4.0.3 and up']\n",
      "\n",
      "\n",
      "['Coloring book moana', 'ART_AND_DESIGN', '3.9', '967', '14M', '500,000+', 'Free', '0', 'Everyone', 'Art & Design;Pretend Play', 'January 15, 2018', '2.0.0', '4.0.3 and up']\n",
      "\n",
      "\n",
      "Number of rows: 10840\n",
      "Number of columns: 13\n"
     ]
    }
   ],
   "source": [
    "print(\"android header:\\n\", android_header, \"\\n\")\n",
    "explore_data(android, 0, 2, True)"
   ]
  },
  {
   "cell_type": "markdown",
   "id": "b2e8177c-7c9e-43cc-a836-96892f80f1de",
   "metadata": {},
   "source": [
    "#### 2.3.3 Results of the data structure analysis\n",
    "\n",
    "| Data set | Number of Rows | Column Names |\n",
    "| ------   | ------         | ------       |\n",
    "| iOS      | 7197           |'id', 'track_name', 'size_bytes', 'currency', 'price', 'rating_count_tot', 'rating_count_ver', 'user_rating', 'user_rating_ver', 'ver', 'cont_rating', 'prime_genre', 'sup_devices.num', 'ipadSc_urls.num', 'lang.num', 'vpp_lic'     |\n",
    "| Android  | 10841          |'App', 'Category', 'Rating', 'Reviews', 'Size', 'Installs', 'Type', 'Price', 'Content Rating', 'Genres', 'Last Updated', 'Current Ver', 'Android Ver'|"
   ]
  },
  {
   "cell_type": "markdown",
   "id": "78af6e8f-d830-4de4-9d14-1eaac56b9ec5",
   "metadata": {},
   "source": [
    "### 3. Cleaning our datasets\n",
    "\n",
    "Our two datasets, in their current format, are a list of lists. However, we cannot use them right away. The data needs to be cleaned and prepared so that we do not get any wrong results in our analysis. As per our requirements, we need to remove all paid apps and non-English language apps too.\n",
    "\n",
    "We will focus on the following three steps that are integral to any Data Cleansing process:\n",
    "\n",
    "- remove or correct wrong data\n",
    "- remove duplicate data\n",
    "- modify the data to fit the purpose of our analysis\n",
    "\n",
    "#### Finding erroneous data\n",
    "\n",
    "[This discussion](https://www.kaggle.com/lava18/google-play-store-apps/discussion/66015) on Google Play Store describes missing data for row 10472. Let's check if this is the case by matching the length of the entry 10472 to the length of the header."
   ]
  },
  {
   "cell_type": "code",
   "execution_count": 64,
   "id": "2b239c7e-be63-4460-90fb-fd060a403b70",
   "metadata": {},
   "outputs": [
    {
     "name": "stdout",
     "output_type": "stream",
     "text": [
      "10472\n",
      "['Life Made WI-Fi Touchscreen Photo Frame', '1.9', '19', '3.0M', '1,000+', 'Free', '0', 'Everyone', '', 'February 11, 2018', '1.0.19', '4.0 and up']\n"
     ]
    }
   ],
   "source": [
    "# Checking the index of the entry with missing data\n",
    "\n",
    "for row in android:\n",
    "    if len(row) != len(android_header):\n",
    "        print(android.index(row))\n",
    "        print(row)"
   ]
  },
  {
   "cell_type": "markdown",
   "id": "03377903-fdb8-4dcc-9291-a30f55094989",
   "metadata": {},
   "source": [
    "Let's remove the erroneous row by using the del statement"
   ]
  },
  {
   "cell_type": "code",
   "execution_count": 65,
   "id": "4fc017b0-5c67-4a5a-ba56-664bb9f3f42f",
   "metadata": {},
   "outputs": [
    {
     "name": "stdout",
     "output_type": "stream",
     "text": [
      "10841\n",
      "10840\n"
     ]
    }
   ],
   "source": [
    "print(len(android))\n",
    "del android[10472] #do not run this more than once\n",
    "print(len(android))"
   ]
  },
  {
   "cell_type": "markdown",
   "id": "11b71c50-5f4b-48a2-90f7-7534deb45480",
   "metadata": {},
   "source": [
    "[This discussion](https://www.kaggle.com/ramamet4/app-store-apple-data-set-10k-apps/discussion/106176) on App Store data mentions presence of duplicate data. Let's find the duplicate data in our ios dataset."
   ]
  },
  {
   "cell_type": "code",
   "execution_count": 66,
   "id": "63f160c3-c213-49a7-ab90-9e216fed6c8b",
   "metadata": {},
   "outputs": [
    {
     "name": "stdout",
     "output_type": "stream",
     "text": [
      "['id', 'track_name', 'size_bytes', 'currency', 'price', 'rating_count_tot', 'rating_count_ver', 'user_rating', 'user_rating_ver', 'ver', 'cont_rating', 'prime_genre', 'sup_devices.num', 'ipadSc_urls.num', 'lang.num', 'vpp_lic']\n"
     ]
    }
   ],
   "source": [
    "print(ios_header)"
   ]
  },
  {
   "cell_type": "code",
   "execution_count": 67,
   "id": "9538a5a6-63fd-4a61-b2e2-5f73118ebcf1",
   "metadata": {},
   "outputs": [
    {
     "name": "stdout",
     "output_type": "stream",
     "text": [
      "Number of rows in the original dataset:  7197\n",
      "Number of rows in the cleaned dataset:  7197\n",
      "Number of rows in the duplicate dataset:  0\n"
     ]
    }
   ],
   "source": [
    "\n",
    "\n",
    "# Create two empty lists - one list contains unique data and the other list contains duplicates.\n",
    "\n",
    "ios_clean = []\n",
    "ios_duplicate_apps = []\n",
    "\n",
    "print(\"Number of rows in the original dataset: \", len(ios))\n",
    "for row in ios:\n",
    "    if row[1] in ios_clean:\n",
    "        ios_duplicate.append(row)\n",
    "    else:\n",
    "        ios_clean.append(row)\n",
    "        \n",
    "print(\"Number of rows in the cleaned dataset: \", len(ios_clean))\n",
    "print(\"Number of rows in the duplicate dataset: \", len(ios_duplicate))"
   ]
  },
  {
   "cell_type": "code",
   "execution_count": null,
   "id": "27698621-d280-4176-8dfb-aafb2bd959c6",
   "metadata": {},
   "outputs": [],
   "source": []
  }
 ],
 "metadata": {
  "kernelspec": {
   "display_name": "Python 3 (ipykernel)",
   "language": "python",
   "name": "python3"
  },
  "language_info": {
   "codemirror_mode": {
    "name": "ipython",
    "version": 3
   },
   "file_extension": ".py",
   "mimetype": "text/x-python",
   "name": "python",
   "nbconvert_exporter": "python",
   "pygments_lexer": "ipython3",
   "version": "3.10.2"
  }
 },
 "nbformat": 4,
 "nbformat_minor": 5
}
