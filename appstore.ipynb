{
 "cells": [
  {
   "cell_type": "markdown",
   "id": "9cda3ecd-1d2c-4258-a4ff-144be5cdb62e",
   "metadata": {},
   "source": [
    "# App Store Analysis\n",
    "\n",
    "## Using Data Analytics to Inform Business Strategy"
   ]
  },
  {
   "cell_type": "markdown",
   "id": "5ad8551a-f36e-474d-aaed-831a0d9a658c",
   "metadata": {},
   "source": [
    "## 1. Project Design\n",
    "\n",
    "### 1.1 Company Background\n",
    "\n",
    "The company XYZ is in the business of building Android and iOS mobile apps. These apps are free to download and install, and they are distributed through Google Play Store and the Apple App Store.\n",
    "\n",
    "The company's main source of revenue is in-app advertising. This posits the business model as volume driven - scale in terms of the number of users becomes very important. The more the number of users who see and engage with the ads, proportionally better is the revenue opportunity.\n",
    "\n",
    "### 1.2 Business Challenge\n",
    "\n",
    "The senior management team is meeting for the annual strategy event to decide on allocation of resources and future app development roadmap. The team is seeking inputs from the business strategy group that will help the company maximize return-on-investment(ROI) opportunities. \n",
    "\n",
    "### 1.3 Project Scope\n",
    "\n",
    "Our goal for this project is to offer actionable insights that are backed by data. Based on our understanding of the company's business model, we know that the biggest driver of ROI is the number of users for an app - the revenue opportunity is directly proportional. We will focus our exploration on this topic. \n",
    "\n",
    "Our project scope is to analyze app store data and identify the type of apps that are likely to attract more users. Such actionable intelligence can help optimize revenue and the company can focus on creating the kind of apps that are popular.\n",
    "\n",
    "Our key requirements are as follows:\n",
    "\n",
    "- We are interested in free apps only\n",
    "- We are interested in apps in English language only\n",
    "\n",
    "\n",
    "### 1.4 Sources of data\n",
    "\n",
    "Apple Store Data: https://www.kaggle.com/ramamet4/app-store-apple-data-set-10k-apps. This dataset contains data about ~7000 iOS apps as of July 2017.\n",
    "\n",
    "Google Play Store Data: https://www.kaggle.com/lava18/google-play-store-apps. This dataset contains data about approximately 10,000 Android apps as of August 2018."
   ]
  },
  {
   "cell_type": "markdown",
   "id": "f72df293-e9ba-4a4e-b8f9-9195a0d2e8b6",
   "metadata": {},
   "source": [
    "## 2. Data Preparation"
   ]
  },
  {
   "cell_type": "markdown",
   "id": "5e31ea31-afd3-43cd-85c7-6fbda53c6bfd",
   "metadata": {},
   "source": [
    "### 2.1 Open Apple Play Store and Google Play Store data sets"
   ]
  },
  {
   "cell_type": "code",
   "execution_count": 1,
   "id": "709242a4-8ba1-4128-96e9-2f922d447ee8",
   "metadata": {},
   "outputs": [],
   "source": [
    "# Open both datasets and save them as list of lists.\n",
    "\n",
    "from csv import reader\n",
    "\n",
    "#Apple Store Dataset\n",
    "opened_file = open(\"./AppleStore.csv\")\n",
    "read_file = reader(opened_file)\n",
    "ios = list(read_file)\n",
    "ios_header = ios[0]\n",
    "ios = ios[1:]\n",
    "\n",
    "#Google Play Store Dataset\n",
    "opened_file = open(\"./googleplaystore.csv\")\n",
    "read_file = reader(opened_file)\n",
    "android = list(read_file)\n",
    "android_header = android[0]\n",
    "android = android[1:]"
   ]
  },
  {
   "cell_type": "markdown",
   "id": "90f55e48-df25-4b5f-ba7d-b88dfac525cd",
   "metadata": {},
   "source": [
    "### 2.2 Create explore_data() function"
   ]
  },
  {
   "cell_type": "code",
   "execution_count": 2,
   "id": "42383358-c494-4689-abeb-b5f6bdb9a1e0",
   "metadata": {
    "tags": []
   },
   "outputs": [],
   "source": [
    "# Defining a function to make it easy to print data\n",
    "\n",
    "def explore_data(dataset, start, end, rows_and_columns=False):\n",
    "    dataset_slice = dataset[start:end]\n",
    "    \n",
    "    for row in dataset_slice:\n",
    "        print(row)\n",
    "        print(\"\\n\") #Add a new empty line after each row\n",
    "        \n",
    "    if rows_and_columns:\n",
    "        print(\"Number of rows: \" + str(len(dataset)))\n",
    "        print(\"Number of columns: \" + str(len(dataset[0])))"
   ]
  },
  {
   "cell_type": "markdown",
   "id": "a7834cc8-ff00-4c92-8c58-6d5788294772",
   "metadata": {},
   "source": [
    "### 2.3 Exploring the datasets\n",
    "\n",
    "Let's look at the structure of the two datasets that we have created. For each dataset, we would like to know the following:\n",
    "\n",
    "- Number of columns in each dataset to learn about the headers\n",
    "- Number of rows in each dataset to learn about the total number of entries\n",
    "\n",
    "Let's use the explore_data() function that we created to gather these insights."
   ]
  },
  {
   "cell_type": "markdown",
   "id": "c3733b48-7560-480d-94ac-884261285428",
   "metadata": {},
   "source": [
    "#### 2.3.1 Exploring the iOS dataset"
   ]
  },
  {
   "cell_type": "code",
   "execution_count": 3,
   "id": "b59b695e-7646-4402-b0ab-d6d05773870f",
   "metadata": {},
   "outputs": [
    {
     "name": "stdout",
     "output_type": "stream",
     "text": [
      "ios header:\n",
      " ['id', 'track_name', 'size_bytes', 'currency', 'price', 'rating_count_tot', 'rating_count_ver', 'user_rating', 'user_rating_ver', 'ver', 'cont_rating', 'prime_genre', 'sup_devices.num', 'ipadSc_urls.num', 'lang.num', 'vpp_lic'] \n",
      "\n",
      "['284882215', 'Facebook', '389879808', 'USD', '0.0', '2974676', '212', '3.5', '3.5', '95.0', '4+', 'Social Networking', '37', '1', '29', '1']\n",
      "\n",
      "\n",
      "['389801252', 'Instagram', '113954816', 'USD', '0.0', '2161558', '1289', '4.5', '4.0', '10.23', '12+', 'Photo & Video', '37', '0', '29', '1']\n",
      "\n",
      "\n",
      "Number of rows: 7197\n",
      "Number of columns: 16\n"
     ]
    }
   ],
   "source": [
    "print(\"ios header:\\n\", ios_header, \"\\n\")\n",
    "explore_data(ios, 0, 2, True)"
   ]
  },
  {
   "cell_type": "markdown",
   "id": "f192ec2d-f784-4e3a-8f8e-d10600dc2b48",
   "metadata": {},
   "source": [
    "#### 2.3.2 Exploring the android dataset"
   ]
  },
  {
   "cell_type": "code",
   "execution_count": 4,
   "id": "60f41b66-06f5-4ea2-882d-afc927ee913c",
   "metadata": {},
   "outputs": [
    {
     "name": "stdout",
     "output_type": "stream",
     "text": [
      "android header:\n",
      " ['App', 'Category', 'Rating', 'Reviews', 'Size', 'Installs', 'Type', 'Price', 'Content Rating', 'Genres', 'Last Updated', 'Current Ver', 'Android Ver'] \n",
      "\n",
      "['Photo Editor & Candy Camera & Grid & ScrapBook', 'ART_AND_DESIGN', '4.1', '159', '19M', '10,000+', 'Free', '0', 'Everyone', 'Art & Design', 'January 7, 2018', '1.0.0', '4.0.3 and up']\n",
      "\n",
      "\n",
      "['Coloring book moana', 'ART_AND_DESIGN', '3.9', '967', '14M', '500,000+', 'Free', '0', 'Everyone', 'Art & Design;Pretend Play', 'January 15, 2018', '2.0.0', '4.0.3 and up']\n",
      "\n",
      "\n",
      "Number of rows: 10841\n",
      "Number of columns: 13\n"
     ]
    }
   ],
   "source": [
    "print(\"android header:\\n\", android_header, \"\\n\")\n",
    "explore_data(android, 0, 2, True)"
   ]
  },
  {
   "cell_type": "markdown",
   "id": "b2e8177c-7c9e-43cc-a836-96892f80f1de",
   "metadata": {},
   "source": [
    "#### 2.3.3 Results of the data structure analysis\n",
    "\n",
    "| Data set | Number of Rows | Numer of Columns | Column Names |\n",
    "| ------   | ------         | ------       | ------ |\n",
    "| iOS      | 7197           | 16 | 'id', 'track_name', 'size_bytes', 'currency', 'price', 'rating_count_tot', 'rating_count_ver', 'user_rating', 'user_rating_ver', 'ver', 'cont_rating', 'prime_genre', 'sup_devices.num', 'ipadSc_urls.num', 'lang.num', 'vpp_lic'     |\n",
    "| Android  | 10841          | 13 | 'App', 'Category', 'Rating', 'Reviews', 'Size', 'Installs', 'Type', 'Price', 'Content Rating', 'Genres', 'Last Updated', 'Current Ver', 'Android Ver'|"
   ]
  },
  {
   "cell_type": "markdown",
   "id": "78af6e8f-d830-4de4-9d14-1eaac56b9ec5",
   "metadata": {},
   "source": [
    "## 3. Data Cleansing\n",
    "\n",
    "Our two datasets, in their current format, are a list of lists. However, we cannot use them right away. The data needs to be cleaned and prepared so that we do not get any wrong results in our analysis. As per our requirements, we need to remove all paid apps and non-English language apps too.\n",
    "\n",
    "We will focus on the following three steps that are integral to any data cleaning process:\n",
    "\n",
    "- remove or correct wrong data\n",
    "- remove duplicate data\n",
    "- modify the data to fit the purpose of our analysis\n",
    "\n",
    "### 3.1 Finding and deleting erroneous data in Google Play Store dataset\n",
    "\n",
    "#### 3.1.1 Deleting wrong data\n",
    "\n",
    "In the [discussion section](https://www.kaggle.com/lava18/google-play-store-apps/discussion) of the Google Play Store dataset, [this discussion](https://www.kaggle.com/lava18/google-play-store-apps/discussion/66015) on Google Play Store describes missing data for row 10472. Let's check if this is the case by matching the length of the entry 10472 to the length of the header."
   ]
  },
  {
   "cell_type": "code",
   "execution_count": 5,
   "id": "2b239c7e-be63-4460-90fb-fd060a403b70",
   "metadata": {},
   "outputs": [
    {
     "name": "stdout",
     "output_type": "stream",
     "text": [
      "Row with wrong data:  10472\n",
      "['Life Made WI-Fi Touchscreen Photo Frame', '1.9', '19', '3.0M', '1,000+', 'Free', '0', 'Everyone', '', 'February 11, 2018', '1.0.19', '4.0 and up']\n"
     ]
    }
   ],
   "source": [
    "# Checking the index of the entry with missing data\n",
    "\n",
    "for row in android:\n",
    "    if len(row) != len(android_header):\n",
    "        print(\"Row with wrong data: \", android.index(row))\n",
    "        print(row)"
   ]
  },
  {
   "cell_type": "markdown",
   "id": "03377903-fdb8-4dcc-9291-a30f55094989",
   "metadata": {},
   "source": [
    "Let us find what's wrong with the data in this row. We will compare this row with another row from the dataset to find the anomaly."
   ]
  },
  {
   "cell_type": "code",
   "execution_count": 6,
   "id": "b17d929d-a91c-4186-a4b2-71102daeea59",
   "metadata": {},
   "outputs": [
    {
     "name": "stdout",
     "output_type": "stream",
     "text": [
      "android header: :\n",
      " ['App', 'Category', 'Rating', 'Reviews', 'Size', 'Installs', 'Type', 'Price', 'Content Rating', 'Genres', 'Last Updated', 'Current Ver', 'Android Ver'] \n",
      "\n",
      "Row #1 of the data set: \n",
      " ['Photo Editor & Candy Camera & Grid & ScrapBook', 'ART_AND_DESIGN', '4.1', '159', '19M', '10,000+', 'Free', '0', 'Everyone', 'Art & Design', 'January 7, 2018', '1.0.0', '4.0.3 and up'] \n",
      "\n"
     ]
    }
   ],
   "source": [
    "print(\"android header: :\\n\", android_header, \"\\n\")\n",
    "print(\"Row #1 of the data set: \\n\", android[0], \"\\n\")"
   ]
  },
  {
   "cell_type": "markdown",
   "id": "8a7c559b-2a40-4dd6-a9b2-dc7897c3504c",
   "metadata": {},
   "source": [
    "As we compare rows 1 and 10472, we find that row 10472 has a missing Category, and all other data has moved left by one column (for example, the reviews column for row 10472 shows '3.0M' which is wrong). We need to remove this row as the wrong data will create errors in our analysis."
   ]
  },
  {
   "cell_type": "code",
   "execution_count": 7,
   "id": "4fc017b0-5c67-4a5a-ba56-664bb9f3f42f",
   "metadata": {},
   "outputs": [
    {
     "name": "stdout",
     "output_type": "stream",
     "text": [
      "Total number of rows before deletion:  10841\n",
      "Total number of rows after deletion:  10840\n"
     ]
    }
   ],
   "source": [
    "print(\"Total number of rows before deletion: \", len(android))\n",
    "del android[10472] #do not run this more than once\n",
    "print(\"Total number of rows after deletion: \", len(android))"
   ]
  },
  {
   "cell_type": "markdown",
   "id": "c6bb3c1f-b654-473c-8dbb-534dbd5a007d",
   "metadata": {},
   "source": [
    "#### 3.1.2 Deleting duplicate entries"
   ]
  },
  {
   "cell_type": "markdown",
   "id": "f549d73a-0384-43b8-a8f2-1b70eb036621",
   "metadata": {},
   "source": [
    "Let's find if there are any duplicate entries in the dataset. We can do this by creating two lists, viz., one list containing unique apps and the other list containing duplicate apps. Further to this, we will dig deeper into the duplicate apps list to find a way to select the right data in the android dataset and remove duplicate entries."
   ]
  },
  {
   "cell_type": "code",
   "execution_count": 8,
   "id": "e9bef977-d6b2-46c3-8e3b-347b2f86bf8d",
   "metadata": {},
   "outputs": [
    {
     "name": "stdout",
     "output_type": "stream",
     "text": [
      "Number of rows in the cleaned dataset:  9659\n",
      "Number of rows in the duplicate dataset:  1181\n",
      "App with the highest number of duplicate entries: ROBLOX\n"
     ]
    }
   ],
   "source": [
    "android_clean = []    #create an empty list to store unique apps\n",
    "android_duplicate = []    #create an empty list to store duplicate apps\n",
    "\n",
    "for row in android:\n",
    "    if row[0] in android_clean:    #checking by App Name\n",
    "        android_duplicate.append(row[0])\n",
    "    else:\n",
    "        android_clean.append(row[0])\n",
    "        \n",
    "print(\"Number of rows in the cleaned dataset: \", len(android_clean))\n",
    "print(\"Number of rows in the duplicate dataset: \", len(android_duplicate))\n",
    "\n",
    "duplicate_counts = {}\n",
    "\n",
    "for app in android_duplicate:\n",
    "    if app in duplicate_counts:\n",
    "        duplicate_counts[app] += 1\n",
    "    else:\n",
    "        duplicate_counts[app] = 1\n",
    "\n",
    "print(\"App with the highest number of duplicate entries:\", max(duplicate_counts, key=duplicate_counts.get))"
   ]
  },
  {
   "cell_type": "markdown",
   "id": "54cf0f2b-c255-4b8f-a827-0ac05b5f9aa0",
   "metadata": {},
   "source": [
    "Our initial analysis shows that there are 1181 duplicate entries in our dataset. We have also found that the ROBLOX app has the highest number of duplicate entries. Let's print all entries with the ROBLOX app name in the android dataset to identify which entry is most relevant and also find a way to remove duplicates."
   ]
  },
  {
   "cell_type": "code",
   "execution_count": 9,
   "id": "1c8b2c0c-faf3-4782-bd09-270bc430062b",
   "metadata": {},
   "outputs": [
    {
     "name": "stdout",
     "output_type": "stream",
     "text": [
      "['ROBLOX', 'GAME', '4.5', '4447388', '67M', '100,000,000+', 'Free', '0', 'Everyone 10+', 'Adventure;Action & Adventure', 'July 31, 2018', '2.347.225742', '4.1 and up']\n",
      "['ROBLOX', 'GAME', '4.5', '4447346', '67M', '100,000,000+', 'Free', '0', 'Everyone 10+', 'Adventure;Action & Adventure', 'July 31, 2018', '2.347.225742', '4.1 and up']\n",
      "['ROBLOX', 'GAME', '4.5', '4448791', '67M', '100,000,000+', 'Free', '0', 'Everyone 10+', 'Adventure;Action & Adventure', 'July 31, 2018', '2.347.225742', '4.1 and up']\n",
      "['ROBLOX', 'GAME', '4.5', '4449882', '67M', '100,000,000+', 'Free', '0', 'Everyone 10+', 'Adventure;Action & Adventure', 'July 31, 2018', '2.347.225742', '4.1 and up']\n",
      "['ROBLOX', 'GAME', '4.5', '4449910', '67M', '100,000,000+', 'Free', '0', 'Everyone 10+', 'Adventure;Action & Adventure', 'July 31, 2018', '2.347.225742', '4.1 and up']\n",
      "['ROBLOX', 'FAMILY', '4.5', '4449910', '67M', '100,000,000+', 'Free', '0', 'Everyone 10+', 'Adventure;Action & Adventure', 'July 31, 2018', '2.347.225742', '4.1 and up']\n",
      "['ROBLOX', 'FAMILY', '4.5', '4450855', '67M', '100,000,000+', 'Free', '0', 'Everyone 10+', 'Adventure;Action & Adventure', 'July 31, 2018', '2.347.225742', '4.1 and up']\n",
      "['ROBLOX', 'FAMILY', '4.5', '4450890', '67M', '100,000,000+', 'Free', '0', 'Everyone 10+', 'Adventure;Action & Adventure', 'July 31, 2018', '2.347.225742', '4.1 and up']\n",
      "['ROBLOX', 'FAMILY', '4.5', '4443407', '67M', '100,000,000+', 'Free', '0', 'Everyone 10+', 'Adventure;Action & Adventure', 'July 31, 2018', '2.347.225742', '4.1 and up']\n"
     ]
    }
   ],
   "source": [
    "for app in android:\n",
    "    if app[0] == \"ROBLOX\":\n",
    "        print(app)"
   ]
  },
  {
   "cell_type": "markdown",
   "id": "2bf5bee9-50f9-46f7-be12-a6326389a177",
   "metadata": {},
   "source": [
    "We notice that the entries differ based on the total number of reviews, which is column 4 (index 3). We can form a hypothesis to sort duplicates by reviews - the higher the number of reviews, the recent the data should be."
   ]
  },
  {
   "cell_type": "code",
   "execution_count": 10,
   "id": "ab839c4f-f369-4c1e-9075-70e3c85be29e",
   "metadata": {},
   "outputs": [
    {
     "name": "stdout",
     "output_type": "stream",
     "text": [
      "Expected length of clean list:  9659\n",
      "Actual length of the new sorted data:  9659\n"
     ]
    }
   ],
   "source": [
    "reviews_max = {}\n",
    "\n",
    "for app in android:\n",
    "    name = app[0]\n",
    "    n_reviews = float(app[3])\n",
    "    \n",
    "    if name in reviews_max and reviews_max[name] < n_reviews:\n",
    "        reviews_max[name] = n_reviews\n",
    "    \n",
    "    elif name not in reviews_max:\n",
    "        reviews_max[name] = n_reviews\n",
    "        \n",
    "print(\"Expected length of clean list: \", len(android) - len(android_duplicate))\n",
    "print(\"Actual length of the new sorted data: \", len(reviews_max))"
   ]
  },
  {
   "cell_type": "code",
   "execution_count": 11,
   "id": "61d160d4-b509-4117-91bf-32a57c98ebfa",
   "metadata": {},
   "outputs": [],
   "source": [
    "android_clean = []    #stores the new cleaned dataset\n",
    "already_added = []    #stores app names to avoid duplicates in case the review count is same\n",
    "\n",
    "for app in android:\n",
    "    name = app[0]\n",
    "    n_reviews = float(app[3])\n",
    "    \n",
    "    if (reviews_max[name] == n_reviews) and (name not in already_added):\n",
    "        android_clean.append(app)\n",
    "        already_added.append(name)"
   ]
  },
  {
   "cell_type": "code",
   "execution_count": 12,
   "id": "7771df4d-f28a-4802-9f21-4ef874c8359e",
   "metadata": {},
   "outputs": [
    {
     "name": "stdout",
     "output_type": "stream",
     "text": [
      "['Photo Editor & Candy Camera & Grid & ScrapBook', 'ART_AND_DESIGN', '4.1', '159', '19M', '10,000+', 'Free', '0', 'Everyone', 'Art & Design', 'January 7, 2018', '1.0.0', '4.0.3 and up']\n",
      "\n",
      "\n",
      "['U Launcher Lite – FREE Live Cool Themes, Hide Apps', 'ART_AND_DESIGN', '4.7', '87510', '8.7M', '5,000,000+', 'Free', '0', 'Everyone', 'Art & Design', 'August 1, 2018', '1.2.4', '4.0.3 and up']\n",
      "\n",
      "\n",
      "['Sketch - Draw & Paint', 'ART_AND_DESIGN', '4.5', '215644', '25M', '50,000,000+', 'Free', '0', 'Teen', 'Art & Design', 'June 8, 2018', 'Varies with device', '4.2 and up']\n",
      "\n",
      "\n",
      "Number of rows: 9659\n",
      "Number of columns: 13\n"
     ]
    }
   ],
   "source": [
    "explore_data(android_clean, 0, 3, True)"
   ]
  },
  {
   "cell_type": "markdown",
   "id": "11b71c50-5f4b-48a2-90f7-7534deb45480",
   "metadata": {
    "tags": []
   },
   "source": [
    "### 3.2 Deleting wrong data in Apple Store dataset\n",
    "\n",
    "[This discussion](https://www.kaggle.com/ramamet4/app-store-apple-data-set-10k-apps/discussion/106176) on App Store data mentions presence of duplicate data. Let's find the duplicate data in our ios dataset.\n",
    "\n",
    "#### 3.2.1 Deleting wrong data and duplicates"
   ]
  },
  {
   "cell_type": "code",
   "execution_count": 13,
   "id": "63f160c3-c213-49a7-ab90-9e216fed6c8b",
   "metadata": {},
   "outputs": [
    {
     "name": "stdout",
     "output_type": "stream",
     "text": [
      "['id', 'track_name', 'size_bytes', 'currency', 'price', 'rating_count_tot', 'rating_count_ver', 'user_rating', 'user_rating_ver', 'ver', 'cont_rating', 'prime_genre', 'sup_devices.num', 'ipadSc_urls.num', 'lang.num', 'vpp_lic']\n"
     ]
    }
   ],
   "source": [
    "print(ios_header)"
   ]
  },
  {
   "cell_type": "code",
   "execution_count": 14,
   "id": "9538a5a6-63fd-4a61-b2e2-5f73118ebcf1",
   "metadata": {},
   "outputs": [
    {
     "name": "stdout",
     "output_type": "stream",
     "text": [
      "Number of rows in the original dataset:  7197\n",
      "Number of rows in the cleaned dataset:  7197\n",
      "Number of rows in the duplicate dataset:  0\n"
     ]
    }
   ],
   "source": [
    "# Create two empty lists - one list contains unique data and the other list contains duplicates.\n",
    "\n",
    "ios_clean = []\n",
    "ios_duplicate_apps = []\n",
    "\n",
    "print(\"Number of rows in the original dataset: \", len(ios))\n",
    "for app in ios:\n",
    "    if app[0] in ios_clean:    #checking by id column\n",
    "        ios_duplicate_apps.append(app[0])\n",
    "    else:\n",
    "        ios_clean.append(app[0])\n",
    "        \n",
    "print(\"Number of rows in the cleaned dataset: \", len(ios_clean))\n",
    "print(\"Number of rows in the duplicate dataset: \", len(ios_duplicate_apps))"
   ]
  },
  {
   "cell_type": "markdown",
   "id": "67b9d8e2-4ec2-4aa2-8063-354ce08d32df",
   "metadata": {},
   "source": [
    "The App Store dataset does not seem to have any app with duplicate entries."
   ]
  },
  {
   "cell_type": "markdown",
   "id": "f9e557a4-cfc4-4043-a4a9-a0e13e041b8c",
   "metadata": {},
   "source": [
    "### 3.3 Removing non-English Apps\n",
    "\n",
    "As mentioned in Section 1.3, one of the key requirements of our project is to focus on apps that are in English language only. As we analyze our datasets, we find that are many apps that are not designed for English speaking audiences. We will remove these apps from the list by first identifying them and then removing them."
   ]
  },
  {
   "cell_type": "code",
   "execution_count": null,
   "id": "b82cd287-2bae-4d51-a4db-b15c2d75d566",
   "metadata": {},
   "outputs": [],
   "source": []
  }
 ],
 "metadata": {
  "kernelspec": {
   "display_name": "Python 3 (ipykernel)",
   "language": "python",
   "name": "python3"
  },
  "language_info": {
   "codemirror_mode": {
    "name": "ipython",
    "version": 3
   },
   "file_extension": ".py",
   "mimetype": "text/x-python",
   "name": "python",
   "nbconvert_exporter": "python",
   "pygments_lexer": "ipython3",
   "version": "3.10.2"
  }
 },
 "nbformat": 4,
 "nbformat_minor": 5
}
