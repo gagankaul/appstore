{
 "cells": [
  {
   "cell_type": "markdown",
   "id": "9cda3ecd-1d2c-4258-a4ff-144be5cdb62e",
   "metadata": {},
   "source": [
    "# App Store Analysis Project by Gagan Kaul\n",
    "## Using Data Analytics to Inform Business Strategy"
   ]
  },
  {
   "cell_type": "markdown",
   "id": "5ad8551a-f36e-474d-aaed-831a0d9a658c",
   "metadata": {},
   "source": [
    "### Company Background\n",
    "\n",
    "The company XYZ is in the business of building Android and iOS mobile apps. These apps are free to download and install, and they are distributed through Google Play Store and the Apple App Store.\n",
    "\n",
    "The company's main source of revenue is in-app advertising. This posits the business model as volume driven - scale in terms of the number of users becomes very important. The more the number of users who see and engage with the ads, proportionally better is the revenue opportunity.\n",
    "\n",
    "### Business Challenge\n",
    "\n",
    "The senior management team is meeting for the annual strategy event to decide on allocation of resources and future app development roadmap. The team is seeking inputs from the business strategy group that will help the company maximize return-on-investment(ROI) opportunities. \n",
    "\n",
    "### Project Design\n",
    "\n",
    "Our goal for this project is to offer actionable insights that are backed by data. Based on our understanding of the company's business model, we know that the biggest driver of ROI is the number of users for an app - the revenue opportunity is directly proportional. We will focus our exploration on this topic. \n",
    "\n",
    "Our project scope is to analyze app store data and identify what types of apps are popular with users. This will be actionable intelligence for both senior management and product development teams."
   ]
  },
  {
   "cell_type": "code",
   "execution_count": null,
   "id": "3476120d-6ebd-4afc-b277-571dad26f38e",
   "metadata": {},
   "outputs": [],
   "source": []
  }
 ],
 "metadata": {
  "kernelspec": {
   "display_name": "Python 3 (ipykernel)",
   "language": "python",
   "name": "python3"
  },
  "language_info": {
   "codemirror_mode": {
    "name": "ipython",
    "version": 3
   },
   "file_extension": ".py",
   "mimetype": "text/x-python",
   "name": "python",
   "nbconvert_exporter": "python",
   "pygments_lexer": "ipython3",
   "version": "3.9.7"
  }
 },
 "nbformat": 4,
 "nbformat_minor": 5
}
