{
 "cells": [
  {
   "cell_type": "markdown",
   "id": "9cda3ecd-1d2c-4258-a4ff-144be5cdb62e",
   "metadata": {},
   "source": [
    "# App Store Analysis\n",
    "\n",
    "## Using Data Analytics to Inform Business Strategy"
   ]
  },
  {
   "cell_type": "markdown",
   "id": "5ad8551a-f36e-474d-aaed-831a0d9a658c",
   "metadata": {},
   "source": [
    "### Company Background\n",
    "\n",
    "The company XYZ is in the business of building Android and iOS mobile apps. These apps are free to download and install, and they are distributed through Google Play Store and the Apple App Store.\n",
    "\n",
    "The company's main source of revenue is in-app advertising. This posits the business model as volume driven - scale in terms of the number of users becomes very important. The more the number of users who see and engage with the ads, proportionally better is the revenue opportunity.\n",
    "\n",
    "### Business Challenge\n",
    "\n",
    "The senior management team is meeting for the annual strategy event to decide on allocation of resources and future app development roadmap. The team is seeking inputs from the business strategy group that will help the company maximize return-on-investment(ROI) opportunities. \n",
    "\n",
    "### Project Design\n",
    "\n",
    "Our goal for this project is to offer actionable insights that are backed by data. Based on our understanding of the company's business model, we know that the biggest driver of ROI is the number of users for an app - the revenue opportunity is directly proportional. We will focus our exploration on this topic. \n",
    "\n",
    "Our project scope is to analyze app store data and identify the type of apps that are likely to attract more users. Such actionable intelligence can help optimize revenue and the company can focus on creating the kind of apps that are popular.\n",
    "\n",
    "Our key requirements are as follows:\n",
    "\n",
    "- We are interested in free apps only\n",
    "- We are interested in apps in English language only\n",
    "\n",
    "\n",
    "### Sources\n",
    "\n",
    "Apple Store Data (July 2017): https://www.kaggle.com/ramamet4/app-store-apple-data-set-10k-apps\n",
    "\n",
    "Google Play Store Data (August 2018): https://www.kaggle.com/lava18/google-play-store-apps"
   ]
  },
  {
   "cell_type": "code",
   "execution_count": 2,
   "id": "3476120d-6ebd-4afc-b277-571dad26f38e",
   "metadata": {},
   "outputs": [],
   "source": [
    "# Defining a function to make it easy to print data\n",
    "\n",
    "def explore_data(dataset, start, end, rows_and_columns=False):\n",
    "    dataset_slice = dataset[start:end]\n",
    "    \n",
    "    for row in dataset_slice:\n",
    "        print(row)\n",
    "        print(\"\\n\") #Add a new empty line after each row\n",
    "        \n",
    "    if rows_and_columns:\n",
    "        print(\"Number of rows: \" + str(len(dataset)))\n",
    "        print(\"Number of columns: \" + str(len(dataset[0])))"
   ]
  },
  {
   "cell_type": "code",
   "execution_count": 13,
   "id": "709242a4-8ba1-4128-96e9-2f922d447ee8",
   "metadata": {},
   "outputs": [],
   "source": [
    "#Open Google Play Store and Apple Store datasets and save them as list of lists.\n",
    "\n",
    "from csv import reader\n",
    "\n",
    "#Apple Store Dataset\n",
    "opened_file = open(\"./AppleStore.csv\")\n",
    "read_file = reader(opened_file)\n",
    "ios = list(read_file)\n",
    "ios_header = ios[0]\n",
    "ios = ios[1:]\n",
    "\n",
    "\n",
    "#Google Play Store Dataset\n",
    "opened_file = open(\"./googleplaystore.csv\")\n",
    "read_file = reader(opened_file)\n",
    "android = list(read_file)\n",
    "android_header = android[0]\n",
    "android = android[1:]"
   ]
  },
  {
   "cell_type": "markdown",
   "id": "78af6e8f-d830-4de4-9d14-1eaac56b9ec5",
   "metadata": {},
   "source": [
    "### Cleaning our datasets ready\n",
    "\n",
    "Our two datasets, in their current format, are a list of lists. However, we cannot use them right away. The data needs to be cleaned and prepared so that we do not get any wrong results in our analysis. As per our requirements, we need to remove all paid apps and non-English language apps too.\n",
    "\n",
    "We will focus on the following three steps that are integral to any Data Cleansing process:\n",
    "\n",
    "- remove or correct wrong data\n",
    "- remove duplicate data\n",
    "- modify the data to fit the purpose of our analysis\n",
    "\n"
   ]
  },
  {
   "cell_type": "code",
   "execution_count": null,
   "id": "2b239c7e-be63-4460-90fb-fd060a403b70",
   "metadata": {},
   "outputs": [],
   "source": []
  }
 ],
 "metadata": {
  "kernelspec": {
   "display_name": "Python 3 (ipykernel)",
   "language": "python",
   "name": "python3"
  },
  "language_info": {
   "codemirror_mode": {
    "name": "ipython",
    "version": 3
   },
   "file_extension": ".py",
   "mimetype": "text/x-python",
   "name": "python",
   "nbconvert_exporter": "python",
   "pygments_lexer": "ipython3",
   "version": "3.9.7"
  }
 },
 "nbformat": 4,
 "nbformat_minor": 5
}
