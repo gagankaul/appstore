{
 "cells": [
  {
   "cell_type": "markdown",
   "id": "9cda3ecd-1d2c-4258-a4ff-144be5cdb62e",
   "metadata": {},
   "source": [
    "# App Store Analysis\n",
    "\n",
    "## Using Data Analytics to Inform Business Strategy"
   ]
  },
  {
   "cell_type": "markdown",
   "id": "5ad8551a-f36e-474d-aaed-831a0d9a658c",
   "metadata": {},
   "source": [
    "## 1. Project Design\n",
    "\n",
    "### 1.1 Company Background\n",
    "\n",
    "The company XYZ is in the business of building Android and iOS mobile apps. These apps are free to download and install, and they are distributed through Google Play Store and the Apple App Store.\n",
    "\n",
    "The company's main source of revenue is in-app advertising. This posits the business model as volume driven - scale in terms of the number of users becomes very important. The more the number of users who see and engage with the ads, proportionally better is the revenue opportunity.\n",
    "\n",
    "### 1.2 Business Challenge\n",
    "\n",
    "The senior management team is meeting for the annual strategy event to decide on allocation of resources and future app development roadmap. The team is seeking inputs from the business strategy group that will help the company maximize return-on-investment(ROI) opportunities. \n",
    "\n",
    "### 1.3 Project Scope\n",
    "\n",
    "Our goal for this project is to offer actionable insights that are backed by data. Based on our understanding of the company's business model, we know that the biggest driver of ROI is the number of users for an app - the revenue opportunity is directly proportional. We will focus our exploration on this topic. \n",
    "\n",
    "Our project scope is to analyze app store data and identify the type of apps that are likely to attract more users. Such actionable intelligence can help optimize revenue and the company can focus on creating the kind of apps that are popular.\n",
    "\n",
    "Our key requirements are as follows:\n",
    "\n",
    "- We are interested in free apps only\n",
    "- We are interested in apps in English language only\n",
    "\n",
    "\n",
    "### 1.4 Sources of data\n",
    "\n",
    "Apple Store Data: https://www.kaggle.com/ramamet4/app-store-apple-data-set-10k-apps. This dataset contains data about ~7000 iOS apps as of July 2017.\n",
    "\n",
    "Google Play Store Data: https://www.kaggle.com/lava18/google-play-store-apps. This dataset contains data about approximately 10,000 Android apps as of August 2018."
   ]
  },
  {
   "cell_type": "markdown",
   "id": "f72df293-e9ba-4a4e-b8f9-9195a0d2e8b6",
   "metadata": {},
   "source": [
    "## 2. Data Preparation"
   ]
  },
  {
   "cell_type": "markdown",
   "id": "5e31ea31-afd3-43cd-85c7-6fbda53c6bfd",
   "metadata": {},
   "source": [
    "### 2.1 Open Apple Play Store and Google Play Store data sets"
   ]
  },
  {
   "cell_type": "code",
   "execution_count": 1,
   "id": "709242a4-8ba1-4128-96e9-2f922d447ee8",
   "metadata": {},
   "outputs": [],
   "source": [
    "# Open both datasets and save them as list of lists.\n",
    "\n",
    "from csv import reader\n",
    "\n",
    "#Apple Store Dataset\n",
    "opened_file = open(\"./AppleStore.csv\")\n",
    "read_file = reader(opened_file)\n",
    "ios = list(read_file)\n",
    "ios_header = ios[0]\n",
    "ios = ios[1:]\n",
    "\n",
    "#Google Play Store Dataset\n",
    "opened_file = open(\"./googleplaystore.csv\")\n",
    "read_file = reader(opened_file)\n",
    "android = list(read_file)\n",
    "android_header = android[0]\n",
    "android = android[1:]"
   ]
  },
  {
   "cell_type": "markdown",
   "id": "90f55e48-df25-4b5f-ba7d-b88dfac525cd",
   "metadata": {},
   "source": [
    "### 2.2 Create explore_data() function"
   ]
  },
  {
   "cell_type": "code",
   "execution_count": 2,
   "id": "42383358-c494-4689-abeb-b5f6bdb9a1e0",
   "metadata": {
    "tags": []
   },
   "outputs": [],
   "source": [
    "# Defining a function to make it easy to print data\n",
    "\n",
    "def explore_data(dataset, start, end, rows_and_columns=False):\n",
    "    dataset_slice = dataset[start:end]\n",
    "    \n",
    "    for row in dataset_slice:\n",
    "        print(row)\n",
    "        print(\"\\n\") #Add a new empty line after each row\n",
    "        \n",
    "    if rows_and_columns:\n",
    "        print(\"Number of rows: \" + str(len(dataset)))\n",
    "        print(\"Number of columns: \" + str(len(dataset[0])))"
   ]
  },
  {
   "cell_type": "markdown",
   "id": "a7834cc8-ff00-4c92-8c58-6d5788294772",
   "metadata": {},
   "source": [
    "### 2.3 Exploring the datasets\n",
    "\n",
    "Let's look at the structure of the two datasets that we have created. For each dataset, we would like to know the following:\n",
    "\n",
    "- Number of columns in each dataset to learn about the headers\n",
    "- Number of rows in each dataset to learn about the total number of entries\n",
    "\n",
    "Let's use the explore_data() function that we created to gather these insights."
   ]
  },
  {
   "cell_type": "markdown",
   "id": "c3733b48-7560-480d-94ac-884261285428",
   "metadata": {},
   "source": [
    "#### 2.3.1 Exploring the iOS dataset"
   ]
  },
  {
   "cell_type": "code",
   "execution_count": 3,
   "id": "b59b695e-7646-4402-b0ab-d6d05773870f",
   "metadata": {},
   "outputs": [
    {
     "name": "stdout",
     "output_type": "stream",
     "text": [
      "ios header:\n",
      " ['id', 'track_name', 'size_bytes', 'currency', 'price', 'rating_count_tot', 'rating_count_ver', 'user_rating', 'user_rating_ver', 'ver', 'cont_rating', 'prime_genre', 'sup_devices.num', 'ipadSc_urls.num', 'lang.num', 'vpp_lic'] \n",
      "\n",
      "['284882215', 'Facebook', '389879808', 'USD', '0.0', '2974676', '212', '3.5', '3.5', '95.0', '4+', 'Social Networking', '37', '1', '29', '1']\n",
      "\n",
      "\n",
      "['389801252', 'Instagram', '113954816', 'USD', '0.0', '2161558', '1289', '4.5', '4.0', '10.23', '12+', 'Photo & Video', '37', '0', '29', '1']\n",
      "\n",
      "\n",
      "Number of rows: 7197\n",
      "Number of columns: 16\n"
     ]
    }
   ],
   "source": [
    "print(\"ios header:\\n\", ios_header, \"\\n\")\n",
    "explore_data(ios, 0, 2, True)"
   ]
  },
  {
   "cell_type": "markdown",
   "id": "f192ec2d-f784-4e3a-8f8e-d10600dc2b48",
   "metadata": {},
   "source": [
    "#### 2.3.2 Exploring the android dataset"
   ]
  },
  {
   "cell_type": "code",
   "execution_count": 4,
   "id": "60f41b66-06f5-4ea2-882d-afc927ee913c",
   "metadata": {},
   "outputs": [
    {
     "name": "stdout",
     "output_type": "stream",
     "text": [
      "android header:\n",
      " ['App', 'Category', 'Rating', 'Reviews', 'Size', 'Installs', 'Type', 'Price', 'Content Rating', 'Genres', 'Last Updated', 'Current Ver', 'Android Ver'] \n",
      "\n",
      "['Photo Editor & Candy Camera & Grid & ScrapBook', 'ART_AND_DESIGN', '4.1', '159', '19M', '10,000+', 'Free', '0', 'Everyone', 'Art & Design', 'January 7, 2018', '1.0.0', '4.0.3 and up']\n",
      "\n",
      "\n",
      "['Coloring book moana', 'ART_AND_DESIGN', '3.9', '967', '14M', '500,000+', 'Free', '0', 'Everyone', 'Art & Design;Pretend Play', 'January 15, 2018', '2.0.0', '4.0.3 and up']\n",
      "\n",
      "\n",
      "Number of rows: 10841\n",
      "Number of columns: 13\n"
     ]
    }
   ],
   "source": [
    "print(\"android header:\\n\", android_header, \"\\n\")\n",
    "explore_data(android, 0, 2, True)"
   ]
  },
  {
   "cell_type": "markdown",
   "id": "b2e8177c-7c9e-43cc-a836-96892f80f1de",
   "metadata": {},
   "source": [
    "#### 2.3.3 Results of the data structure analysis\n",
    "\n",
    "| Data set | Number of Rows | Numer of Columns | Column Names |\n",
    "| ------   | ------         | ------       | ------ |\n",
    "| iOS      | 7197           | 16 | 'id', 'track_name', 'size_bytes', 'currency', 'price', 'rating_count_tot', 'rating_count_ver', 'user_rating', 'user_rating_ver', 'ver', 'cont_rating', 'prime_genre', 'sup_devices.num', 'ipadSc_urls.num', 'lang.num', 'vpp_lic'     |\n",
    "| Android  | 10841          | 13 | 'App', 'Category', 'Rating', 'Reviews', 'Size', 'Installs', 'Type', 'Price', 'Content Rating', 'Genres', 'Last Updated', 'Current Ver', 'Android Ver'|"
   ]
  },
  {
   "cell_type": "markdown",
   "id": "78af6e8f-d830-4de4-9d14-1eaac56b9ec5",
   "metadata": {},
   "source": [
    "## 3. Data Cleansing\n",
    "\n",
    "Our two datasets, in their current format, are a list of lists. However, we cannot use them right away. The data needs to be cleaned and prepared so that we do not get any wrong results in our analysis. As per our requirements, we need to remove all paid apps and non-English language apps too.\n",
    "\n",
    "We will focus on the following three steps that are integral to any data cleaning process:\n",
    "\n",
    "- remove or correct wrong data\n",
    "- remove duplicate data\n",
    "- modify the data to fit the purpose of our analysis\n",
    "\n",
    "### 3.1 Finding and deleting erroneous data in Google Play Store dataset\n",
    "\n",
    "#### 3.1.1 Deleting wrong data\n",
    "\n",
    "In the [discussion section](https://www.kaggle.com/lava18/google-play-store-apps/discussion) of the Google Play Store dataset, [this discussion](https://www.kaggle.com/lava18/google-play-store-apps/discussion/66015) on Google Play Store describes missing data for row 10472. Let's check if this is the case by matching the length of the entry 10472 to the length of the header."
   ]
  },
  {
   "cell_type": "code",
   "execution_count": 5,
   "id": "2b239c7e-be63-4460-90fb-fd060a403b70",
   "metadata": {},
   "outputs": [
    {
     "name": "stdout",
     "output_type": "stream",
     "text": [
      "Row with wrong data:  10472\n",
      "['Life Made WI-Fi Touchscreen Photo Frame', '1.9', '19', '3.0M', '1,000+', 'Free', '0', 'Everyone', '', 'February 11, 2018', '1.0.19', '4.0 and up']\n"
     ]
    }
   ],
   "source": [
    "# Checking the index of the entry with missing data\n",
    "\n",
    "for row in android:\n",
    "    if len(row) != len(android_header):\n",
    "        print(\"Row with wrong data: \", android.index(row))\n",
    "        print(row)"
   ]
  },
  {
   "cell_type": "markdown",
   "id": "03377903-fdb8-4dcc-9291-a30f55094989",
   "metadata": {},
   "source": [
    "Let us find what's wrong with the data in this row. We will compare this row with another row from the dataset to find the anomaly."
   ]
  },
  {
   "cell_type": "code",
   "execution_count": 6,
   "id": "b17d929d-a91c-4186-a4b2-71102daeea59",
   "metadata": {},
   "outputs": [
    {
     "name": "stdout",
     "output_type": "stream",
     "text": [
      "android header: :\n",
      " ['App', 'Category', 'Rating', 'Reviews', 'Size', 'Installs', 'Type', 'Price', 'Content Rating', 'Genres', 'Last Updated', 'Current Ver', 'Android Ver'] \n",
      "\n",
      "Row #1 of the data set: \n",
      " ['Photo Editor & Candy Camera & Grid & ScrapBook', 'ART_AND_DESIGN', '4.1', '159', '19M', '10,000+', 'Free', '0', 'Everyone', 'Art & Design', 'January 7, 2018', '1.0.0', '4.0.3 and up'] \n",
      "\n"
     ]
    }
   ],
   "source": [
    "print(\"android header: :\\n\", android_header, \"\\n\")\n",
    "print(\"Row #1 of the data set: \\n\", android[0], \"\\n\")"
   ]
  },
  {
   "cell_type": "markdown",
   "id": "8a7c559b-2a40-4dd6-a9b2-dc7897c3504c",
   "metadata": {},
   "source": [
    "As we compare rows 1 and 10472, we find that row 10472 has a missing Category, and all other data has moved left by one column (for example, the reviews column for row 10472 shows '3.0M' which is wrong). We need to remove this row as the wrong data will create errors in our analysis."
   ]
  },
  {
   "cell_type": "code",
   "execution_count": 7,
   "id": "4fc017b0-5c67-4a5a-ba56-664bb9f3f42f",
   "metadata": {},
   "outputs": [
    {
     "name": "stdout",
     "output_type": "stream",
     "text": [
      "Total number of rows before deletion:  10841\n",
      "Total number of rows after deletion:  10840\n"
     ]
    }
   ],
   "source": [
    "print(\"Total number of rows before deletion: \", len(android))\n",
    "del android[10472] #do not run this more than once\n",
    "print(\"Total number of rows after deletion: \", len(android))"
   ]
  },
  {
   "cell_type": "markdown",
   "id": "c6bb3c1f-b654-473c-8dbb-534dbd5a007d",
   "metadata": {},
   "source": [
    "#### 3.1.2 Deleting duplicate entries"
   ]
  },
  {
   "cell_type": "markdown",
   "id": "f549d73a-0384-43b8-a8f2-1b70eb036621",
   "metadata": {},
   "source": [
    "Let's find if there are any duplicate entries in the dataset. We can do this by creating two lists, viz., one list containing unique apps and the other list containing duplicate apps. Further to this, we will dig deeper into the duplicate apps list to find a way to select the right data in the android dataset and remove duplicate entries."
   ]
  },
  {
   "cell_type": "code",
   "execution_count": 8,
   "id": "e9bef977-d6b2-46c3-8e3b-347b2f86bf8d",
   "metadata": {},
   "outputs": [
    {
     "name": "stdout",
     "output_type": "stream",
     "text": [
      "Number of rows in the cleaned dataset:  9659\n",
      "Number of rows in the duplicate dataset:  1181\n",
      "App with the highest number of duplicate entries: ROBLOX\n"
     ]
    }
   ],
   "source": [
    "android_clean = []    #create an empty list to store unique apps\n",
    "android_duplicate = []    #create an empty list to store duplicate apps\n",
    "\n",
    "for row in android:\n",
    "    if row[0] in android_clean:    #checking by App Name\n",
    "        android_duplicate.append(row[0])\n",
    "    else:\n",
    "        android_clean.append(row[0])\n",
    "        \n",
    "print(\"Number of rows in the cleaned dataset: \", len(android_clean))\n",
    "print(\"Number of rows in the duplicate dataset: \", len(android_duplicate))\n",
    "\n",
    "duplicate_counts = {}\n",
    "\n",
    "for app in android_duplicate:\n",
    "    if app in duplicate_counts:\n",
    "        duplicate_counts[app] += 1\n",
    "    else:\n",
    "        duplicate_counts[app] = 1\n",
    "\n",
    "print(\"App with the highest number of duplicate entries:\", max(duplicate_counts, key=duplicate_counts.get))"
   ]
  },
  {
   "cell_type": "markdown",
   "id": "54cf0f2b-c255-4b8f-a827-0ac05b5f9aa0",
   "metadata": {},
   "source": [
    "Our initial analysis shows that there are 1181 duplicate entries in our dataset. We have also found that the ROBLOX app has the highest number of duplicate entries. Let's print all entries with the ROBLOX app name in the android dataset to identify which entry is most relevant and also find a way to remove duplicates."
   ]
  },
  {
   "cell_type": "code",
   "execution_count": 9,
   "id": "1c8b2c0c-faf3-4782-bd09-270bc430062b",
   "metadata": {},
   "outputs": [
    {
     "name": "stdout",
     "output_type": "stream",
     "text": [
      "['ROBLOX', 'GAME', '4.5', '4447388', '67M', '100,000,000+', 'Free', '0', 'Everyone 10+', 'Adventure;Action & Adventure', 'July 31, 2018', '2.347.225742', '4.1 and up']\n",
      "['ROBLOX', 'GAME', '4.5', '4447346', '67M', '100,000,000+', 'Free', '0', 'Everyone 10+', 'Adventure;Action & Adventure', 'July 31, 2018', '2.347.225742', '4.1 and up']\n",
      "['ROBLOX', 'GAME', '4.5', '4448791', '67M', '100,000,000+', 'Free', '0', 'Everyone 10+', 'Adventure;Action & Adventure', 'July 31, 2018', '2.347.225742', '4.1 and up']\n",
      "['ROBLOX', 'GAME', '4.5', '4449882', '67M', '100,000,000+', 'Free', '0', 'Everyone 10+', 'Adventure;Action & Adventure', 'July 31, 2018', '2.347.225742', '4.1 and up']\n",
      "['ROBLOX', 'GAME', '4.5', '4449910', '67M', '100,000,000+', 'Free', '0', 'Everyone 10+', 'Adventure;Action & Adventure', 'July 31, 2018', '2.347.225742', '4.1 and up']\n",
      "['ROBLOX', 'FAMILY', '4.5', '4449910', '67M', '100,000,000+', 'Free', '0', 'Everyone 10+', 'Adventure;Action & Adventure', 'July 31, 2018', '2.347.225742', '4.1 and up']\n",
      "['ROBLOX', 'FAMILY', '4.5', '4450855', '67M', '100,000,000+', 'Free', '0', 'Everyone 10+', 'Adventure;Action & Adventure', 'July 31, 2018', '2.347.225742', '4.1 and up']\n",
      "['ROBLOX', 'FAMILY', '4.5', '4450890', '67M', '100,000,000+', 'Free', '0', 'Everyone 10+', 'Adventure;Action & Adventure', 'July 31, 2018', '2.347.225742', '4.1 and up']\n",
      "['ROBLOX', 'FAMILY', '4.5', '4443407', '67M', '100,000,000+', 'Free', '0', 'Everyone 10+', 'Adventure;Action & Adventure', 'July 31, 2018', '2.347.225742', '4.1 and up']\n"
     ]
    }
   ],
   "source": [
    "for app in android:\n",
    "    if app[0] == \"ROBLOX\":\n",
    "        print(app)"
   ]
  },
  {
   "cell_type": "markdown",
   "id": "2bf5bee9-50f9-46f7-be12-a6326389a177",
   "metadata": {},
   "source": [
    "We notice that the entries differ based on the total number of reviews, which is column 4 (index 3). We can form a hypothesis to sort duplicates by reviews - the higher the number of reviews, the recent the data should be."
   ]
  },
  {
   "cell_type": "code",
   "execution_count": 10,
   "id": "ab839c4f-f369-4c1e-9075-70e3c85be29e",
   "metadata": {},
   "outputs": [
    {
     "name": "stdout",
     "output_type": "stream",
     "text": [
      "Expected length of clean list:  9659\n",
      "Actual length of the new sorted data:  9659\n"
     ]
    }
   ],
   "source": [
    "reviews_max = {}\n",
    "\n",
    "for app in android:\n",
    "    name = app[0]\n",
    "    n_reviews = float(app[3])\n",
    "    \n",
    "    if name in reviews_max and reviews_max[name] < n_reviews:\n",
    "        reviews_max[name] = n_reviews\n",
    "    \n",
    "    elif name not in reviews_max:\n",
    "        reviews_max[name] = n_reviews\n",
    "        \n",
    "print(\"Expected length of clean list: \", len(android) - len(android_duplicate))\n",
    "print(\"Actual length of the new sorted data: \", len(reviews_max))"
   ]
  },
  {
   "cell_type": "code",
   "execution_count": 11,
   "id": "61d160d4-b509-4117-91bf-32a57c98ebfa",
   "metadata": {},
   "outputs": [],
   "source": [
    "android_clean = []    #stores the new cleaned dataset\n",
    "already_added = []    #stores app names to avoid duplicates in case the review count is same\n",
    "\n",
    "for app in android:\n",
    "    name = app[0]\n",
    "    n_reviews = float(app[3])\n",
    "    \n",
    "    if (reviews_max[name] == n_reviews) and (name not in already_added):\n",
    "        android_clean.append(app)\n",
    "        already_added.append(name)"
   ]
  },
  {
   "cell_type": "code",
   "execution_count": 12,
   "id": "7771df4d-f28a-4802-9f21-4ef874c8359e",
   "metadata": {},
   "outputs": [
    {
     "name": "stdout",
     "output_type": "stream",
     "text": [
      "['Photo Editor & Candy Camera & Grid & ScrapBook', 'ART_AND_DESIGN', '4.1', '159', '19M', '10,000+', 'Free', '0', 'Everyone', 'Art & Design', 'January 7, 2018', '1.0.0', '4.0.3 and up']\n",
      "\n",
      "\n",
      "['U Launcher Lite – FREE Live Cool Themes, Hide Apps', 'ART_AND_DESIGN', '4.7', '87510', '8.7M', '5,000,000+', 'Free', '0', 'Everyone', 'Art & Design', 'August 1, 2018', '1.2.4', '4.0.3 and up']\n",
      "\n",
      "\n",
      "['Sketch - Draw & Paint', 'ART_AND_DESIGN', '4.5', '215644', '25M', '50,000,000+', 'Free', '0', 'Teen', 'Art & Design', 'June 8, 2018', 'Varies with device', '4.2 and up']\n",
      "\n",
      "\n",
      "Number of rows: 9659\n",
      "Number of columns: 13\n"
     ]
    }
   ],
   "source": [
    "explore_data(android_clean, 0, 3, True)"
   ]
  },
  {
   "cell_type": "markdown",
   "id": "11b71c50-5f4b-48a2-90f7-7534deb45480",
   "metadata": {
    "tags": []
   },
   "source": [
    "### 3.2 Deleting wrong data in Apple Store dataset\n",
    "\n",
    "[This discussion](https://www.kaggle.com/ramamet4/app-store-apple-data-set-10k-apps/discussion/106176) on App Store data mentions presence of duplicate data. Let's find the duplicate data in our ios dataset.\n",
    "\n",
    "#### 3.2.1 Deleting wrong data and duplicates"
   ]
  },
  {
   "cell_type": "code",
   "execution_count": 13,
   "id": "63f160c3-c213-49a7-ab90-9e216fed6c8b",
   "metadata": {},
   "outputs": [
    {
     "name": "stdout",
     "output_type": "stream",
     "text": [
      "['id', 'track_name', 'size_bytes', 'currency', 'price', 'rating_count_tot', 'rating_count_ver', 'user_rating', 'user_rating_ver', 'ver', 'cont_rating', 'prime_genre', 'sup_devices.num', 'ipadSc_urls.num', 'lang.num', 'vpp_lic']\n"
     ]
    }
   ],
   "source": [
    "print(ios_header)"
   ]
  },
  {
   "cell_type": "code",
   "execution_count": 14,
   "id": "9538a5a6-63fd-4a61-b2e2-5f73118ebcf1",
   "metadata": {},
   "outputs": [
    {
     "name": "stdout",
     "output_type": "stream",
     "text": [
      "Number of rows in the original dataset:  7197\n",
      "Number of rows in the cleaned dataset:  7197\n",
      "Number of rows in the duplicate dataset:  0\n"
     ]
    }
   ],
   "source": [
    "# Create two empty lists - one list contains unique data and the other list contains duplicates.\n",
    "\n",
    "ios_clean = []\n",
    "ios_duplicate_apps = []\n",
    "\n",
    "print(\"Number of rows in the original dataset: \", len(ios))\n",
    "for app in ios:\n",
    "    if app[0] in ios_clean:    #checking by id column\n",
    "        ios_duplicate_apps.append(app[0])\n",
    "    else:\n",
    "        ios_clean.append(app[0])\n",
    "        \n",
    "print(\"Number of rows in the cleaned dataset: \", len(ios_clean))\n",
    "print(\"Number of rows in the duplicate dataset: \", len(ios_duplicate_apps))"
   ]
  },
  {
   "cell_type": "markdown",
   "id": "67b9d8e2-4ec2-4aa2-8063-354ce08d32df",
   "metadata": {},
   "source": [
    "The App Store dataset does not seem to have any app with duplicate entries."
   ]
  },
  {
   "cell_type": "markdown",
   "id": "f9e557a4-cfc4-4043-a4a9-a0e13e041b8c",
   "metadata": {},
   "source": [
    "### 3.3 Removing non-English Apps\n",
    "\n",
    "As mentioned in Section 1.3, one of the key requirements of our project is to focus on apps that are in English language only. As we analyze our datasets, we find that are many apps that are not designed for English speaking audiences. We will remove these apps from the list by first identifying them and then removing them.\n",
    "\n",
    "#### 3.3.1 Identification Strategy\n",
    "\n",
    "We will analyze the app names to check if they contain non-English characters. Most English characters fall within the ASCII range of 0 to 127. We can check if each character in an app name meets this criteria to filter the apps by English and non-English."
   ]
  },
  {
   "cell_type": "code",
   "execution_count": 15,
   "id": "b82cd287-2bae-4d51-a4db-b15c2d75d566",
   "metadata": {},
   "outputs": [
    {
     "name": "stdout",
     "output_type": "stream",
     "text": [
      "['a', 'b', 'c']\n"
     ]
    }
   ],
   "source": [
    "string = 'abc'\n",
    "newstring = [each for each in string]\n",
    "print(newstring)"
   ]
  },
  {
   "cell_type": "code",
   "execution_count": 16,
   "id": "5f0c6750-1411-46dc-9b9f-3de7ce2fd846",
   "metadata": {},
   "outputs": [],
   "source": [
    "def is_english(app_name):\n",
    "    char_list = [x for x in app_name]\n",
    "    non_eng_count = 0    #allowing 3 non-English characters to provide for emojis and special characters\n",
    "    for each in char_list:\n",
    "        if ord(each) > 127:\n",
    "            non_eng_count += 1\n",
    "    if non_eng_count > 3:\n",
    "        return False\n",
    "    else:\n",
    "        return True"
   ]
  },
  {
   "cell_type": "code",
   "execution_count": 17,
   "id": "1696e84c-39e5-47f5-b86f-17eb44bf0756",
   "metadata": {},
   "outputs": [
    {
     "data": {
      "text/plain": [
       "False"
      ]
     },
     "execution_count": 17,
     "metadata": {},
     "output_type": "execute_result"
    }
   ],
   "source": [
    "is_english('爱奇艺PPS -《欢乐颂2》电视剧热播')"
   ]
  },
  {
   "cell_type": "markdown",
   "id": "117bff9b-fd12-41f2-94af-53310a6c1dc7",
   "metadata": {},
   "source": [
    "### 3.3.2 Removing non-English apps"
   ]
  },
  {
   "cell_type": "code",
   "execution_count": 18,
   "id": "dbbc00bf-a2df-4625-976d-8d815cb0bca7",
   "metadata": {},
   "outputs": [],
   "source": [
    "ios_English_only = []\n",
    "android_English_only = []\n",
    "\n",
    "for app in ios:\n",
    "    name = app[1]\n",
    "    if is_english(name):\n",
    "        ios_English_only.append(app)\n",
    "        \n",
    "for app in android_clean:\n",
    "    name = app[0]\n",
    "    if is_english(name):\n",
    "        android_English_only.append(app)"
   ]
  },
  {
   "cell_type": "code",
   "execution_count": 19,
   "id": "b566528c-0ea2-4812-aa91-75a0337ec5f5",
   "metadata": {},
   "outputs": [
    {
     "name": "stdout",
     "output_type": "stream",
     "text": [
      "['284882215', 'Facebook', '389879808', 'USD', '0.0', '2974676', '212', '3.5', '3.5', '95.0', '4+', 'Social Networking', '37', '1', '29', '1']\n",
      "\n",
      "\n",
      "['389801252', 'Instagram', '113954816', 'USD', '0.0', '2161558', '1289', '4.5', '4.0', '10.23', '12+', 'Photo & Video', '37', '0', '29', '1']\n",
      "\n",
      "\n",
      "Number of rows: 6183\n",
      "Number of columns: 16\n"
     ]
    }
   ],
   "source": [
    "explore_data(ios_English_only, 0, 2, True)"
   ]
  },
  {
   "cell_type": "code",
   "execution_count": 20,
   "id": "16209a0d-0341-49af-910e-b713790853cd",
   "metadata": {},
   "outputs": [
    {
     "name": "stdout",
     "output_type": "stream",
     "text": [
      "['Photo Editor & Candy Camera & Grid & ScrapBook', 'ART_AND_DESIGN', '4.1', '159', '19M', '10,000+', 'Free', '0', 'Everyone', 'Art & Design', 'January 7, 2018', '1.0.0', '4.0.3 and up']\n",
      "\n",
      "\n",
      "['U Launcher Lite – FREE Live Cool Themes, Hide Apps', 'ART_AND_DESIGN', '4.7', '87510', '8.7M', '5,000,000+', 'Free', '0', 'Everyone', 'Art & Design', 'August 1, 2018', '1.2.4', '4.0.3 and up']\n",
      "\n",
      "\n",
      "Number of rows: 9614\n",
      "Number of columns: 13\n"
     ]
    }
   ],
   "source": [
    "explore_data(android_English_only, 0, 2, True)"
   ]
  },
  {
   "cell_type": "markdown",
   "id": "19b14b7f-babc-4236-8d1c-53f55a3afdc7",
   "metadata": {},
   "source": [
    "### 3.3.3 Isolating the free apps"
   ]
  },
  {
   "cell_type": "code",
   "execution_count": 21,
   "id": "578d5a19-d879-4a2b-beba-7da6fd0303f3",
   "metadata": {},
   "outputs": [
    {
     "name": "stdout",
     "output_type": "stream",
     "text": [
      "ios_header:  ['id', 'track_name', 'size_bytes', 'currency', 'price', 'rating_count_tot', 'rating_count_ver', 'user_rating', 'user_rating_ver', 'ver', 'cont_rating', 'prime_genre', 'sup_devices.num', 'ipadSc_urls.num', 'lang.num', 'vpp_lic']\n",
      "\n",
      "\n",
      "android header:  ['App', 'Category', 'Rating', 'Reviews', 'Size', 'Installs', 'Type', 'Price', 'Content Rating', 'Genres', 'Last Updated', 'Current Ver', 'Android Ver']\n"
     ]
    }
   ],
   "source": [
    "print(\"ios_header: \", ios_header)\n",
    "print(\"\\n\")\n",
    "print(\"android header: \", android_header)"
   ]
  },
  {
   "cell_type": "code",
   "execution_count": 22,
   "id": "135f770b-1350-448d-8d8d-362a803902c0",
   "metadata": {},
   "outputs": [],
   "source": [
    "ios_eng_free = []\n",
    "android_eng_free = []\n",
    "\n",
    "for app in ios_English_only:\n",
    "    if app[4] == '0.0':\n",
    "        ios_eng_free.append(app)\n",
    "        \n",
    "for app in android_English_only:\n",
    "    if app[7] == '0':\n",
    "        android_eng_free.append(app)"
   ]
  },
  {
   "cell_type": "code",
   "execution_count": 23,
   "id": "1a22d2a8-a468-4280-b7a4-d63b1cd6a461",
   "metadata": {},
   "outputs": [
    {
     "name": "stdout",
     "output_type": "stream",
     "text": [
      "['284882215', 'Facebook', '389879808', 'USD', '0.0', '2974676', '212', '3.5', '3.5', '95.0', '4+', 'Social Networking', '37', '1', '29', '1']\n",
      "\n",
      "\n",
      "['389801252', 'Instagram', '113954816', 'USD', '0.0', '2161558', '1289', '4.5', '4.0', '10.23', '12+', 'Photo & Video', '37', '0', '29', '1']\n",
      "\n",
      "\n",
      "['529479190', 'Clash of Clans', '116476928', 'USD', '0.0', '2130805', '579', '4.5', '4.5', '9.24.12', '9+', 'Games', '38', '5', '18', '1']\n",
      "\n",
      "\n",
      "Number of rows: 3222\n",
      "Number of columns: 16\n"
     ]
    }
   ],
   "source": [
    "explore_data(ios_eng_free, 0, 3, True)"
   ]
  },
  {
   "cell_type": "code",
   "execution_count": 24,
   "id": "26fce23f-df52-4a28-a37e-c60c1c370bd3",
   "metadata": {},
   "outputs": [
    {
     "name": "stdout",
     "output_type": "stream",
     "text": [
      "['Photo Editor & Candy Camera & Grid & ScrapBook', 'ART_AND_DESIGN', '4.1', '159', '19M', '10,000+', 'Free', '0', 'Everyone', 'Art & Design', 'January 7, 2018', '1.0.0', '4.0.3 and up']\n",
      "\n",
      "\n",
      "['U Launcher Lite – FREE Live Cool Themes, Hide Apps', 'ART_AND_DESIGN', '4.7', '87510', '8.7M', '5,000,000+', 'Free', '0', 'Everyone', 'Art & Design', 'August 1, 2018', '1.2.4', '4.0.3 and up']\n",
      "\n",
      "\n",
      "['Sketch - Draw & Paint', 'ART_AND_DESIGN', '4.5', '215644', '25M', '50,000,000+', 'Free', '0', 'Teen', 'Art & Design', 'June 8, 2018', 'Varies with device', '4.2 and up']\n",
      "\n",
      "\n",
      "Number of rows: 8864\n",
      "Number of columns: 13\n"
     ]
    }
   ],
   "source": [
    "explore_data(android_eng_free, 0, 3, True)"
   ]
  },
  {
   "cell_type": "markdown",
   "id": "74287437-3f4b-4a00-bd2f-b8ff26e9cac2",
   "metadata": {},
   "source": [
    "After datasets are now ready - we have 3222 apps in the iOS dataset and 8864 apps in the android dataset."
   ]
  },
  {
   "cell_type": "markdown",
   "id": "360e62bb-f674-40d9-913c-ddeea1816277",
   "metadata": {},
   "source": [
    "## 4 Data Analysis"
   ]
  },
  {
   "cell_type": "markdown",
   "id": "20504198-f661-4386-a078-9bf498f5b31d",
   "metadata": {},
   "source": [
    "Our validation strategy for an app idea has three steps:\n",
    "\n",
    "- Build a minimal Android version of the app, and add it to Google Play\n",
    "- If the app has a good response from users, we develop it further\n",
    "- If the app is profitable after six months, we build an iOS version of the app and add it to the App Store\n",
    "\n",
    "We need to find app profiles that are successful in both markets. For instance, a profile that works well for both markets might be a productivity app that makes use of gamification.\n",
    "\n",
    "Let's build frequency tables to determine the most common genres for each market."
   ]
  },
  {
   "cell_type": "code",
   "execution_count": 25,
   "id": "00aeb8b6-fe89-4b82-b65e-3c802d447586",
   "metadata": {},
   "outputs": [
    {
     "name": "stdout",
     "output_type": "stream",
     "text": [
      "ios_header:  ['id', 'track_name', 'size_bytes', 'currency', 'price', 'rating_count_tot', 'rating_count_ver', 'user_rating', 'user_rating_ver', 'ver', 'cont_rating', 'prime_genre', 'sup_devices.num', 'ipadSc_urls.num', 'lang.num', 'vpp_lic']\n",
      "\n",
      "\n",
      "android header:  ['App', 'Category', 'Rating', 'Reviews', 'Size', 'Installs', 'Type', 'Price', 'Content Rating', 'Genres', 'Last Updated', 'Current Ver', 'Android Ver']\n"
     ]
    }
   ],
   "source": [
    "print(\"ios_header: \", ios_header)\n",
    "print(\"\\n\")\n",
    "print(\"android header: \", android_header)"
   ]
  },
  {
   "cell_type": "markdown",
   "id": "7ae27a7d-7d8a-4b27-b738-b36dacc7fbae",
   "metadata": {},
   "source": [
    "We will need to build frequency table for the prime_genre column of the App Store dataset, and for the Genres and Category columns of the Google Play Store dataset.\n",
    "\n",
    "Let's build two functions to analyze the frequency tables:\n",
    "\n",
    "- One function to generate frequency tables that show percentages\n",
    "- Another function we can use to display the percentages in a descending order"
   ]
  },
  {
   "cell_type": "code",
   "execution_count": 26,
   "id": "aed4f51b-8012-47f6-ba46-c2cae2aaf9db",
   "metadata": {},
   "outputs": [],
   "source": [
    "def freq_table(dataset, index):\n",
    "    dataset_freq_table = {}\n",
    "    count_category = 0\n",
    "    \n",
    "    for app in dataset:\n",
    "        category = app[index]\n",
    "        count_category += 1\n",
    "        if category in dataset_freq_table:\n",
    "            dataset_freq_table[category] += 1\n",
    "        else:\n",
    "            dataset_freq_table[category] = 1\n",
    "            \n",
    "    freq_table_percentage = {}\n",
    "    for key in dataset_freq_table:\n",
    "        percentage = round((dataset_freq_table[key] / count_category) * 100, 4)\n",
    "        freq_table_percentage[key] = percentage\n",
    "        \n",
    "    return freq_table_percentage"
   ]
  },
  {
   "cell_type": "code",
   "execution_count": 27,
   "id": "4066a24f-63c8-449d-a48c-8dde355abca3",
   "metadata": {},
   "outputs": [],
   "source": [
    "def display_table(dataset, index):\n",
    "    table = freq_table(dataset, index)\n",
    "    table_display = []\n",
    "    for key in table:\n",
    "        key_val_as_tuple = (table[key], key)\n",
    "        table_display.append(key_val_as_tuple)\n",
    "\n",
    "    table_sorted = sorted(table_display, reverse = True)\n",
    "    for entry in table_sorted:\n",
    "        print(entry[1], ':', entry[0])"
   ]
  },
  {
   "cell_type": "code",
   "execution_count": 28,
   "id": "8a3addbc-0405-4a0d-adcb-56be539070e8",
   "metadata": {},
   "outputs": [],
   "source": [
    "# A faster way to display the genre with max ratings without defining display_table() function\n",
    "\n",
    "# ios_freq = freq_table(ios_eng_free, 11)\n",
    "# print(max(ios_freq, key=ios_freq.get))\n",
    "\n",
    "# android_freq = freq_table(android_eng_free, 1)\n",
    "# print(max(android_freq, key=android_freq.get))\n",
    "\n",
    "# android_freq = freq_table(android_eng_free, 9)\n",
    "# print(max(android_freq, key=android_freq.get))"
   ]
  },
  {
   "cell_type": "code",
   "execution_count": 29,
   "id": "4e5fc818-fc9b-46d3-8ef3-2c996f4d9842",
   "metadata": {},
   "outputs": [
    {
     "name": "stdout",
     "output_type": "stream",
     "text": [
      "Games : 58.1626\n",
      "Entertainment : 7.8833\n",
      "Photo & Video : 4.9659\n",
      "Education : 3.6623\n",
      "Social Networking : 3.2899\n",
      "Shopping : 2.6071\n",
      "Utilities : 2.514\n",
      "Sports : 2.1415\n",
      "Music : 2.0484\n",
      "Health & Fitness : 2.0174\n",
      "Productivity : 1.7381\n",
      "Lifestyle : 1.5829\n",
      "News : 1.3346\n",
      "Travel : 1.2415\n",
      "Finance : 1.1173\n",
      "Weather : 0.869\n",
      "Food & Drink : 0.807\n",
      "Reference : 0.5587\n",
      "Business : 0.5276\n",
      "Book : 0.4345\n",
      "Navigation : 0.1862\n",
      "Medical : 0.1862\n",
      "Catalogs : 0.1241\n"
     ]
    }
   ],
   "source": [
    "display_table(ios_eng_free, 11)    #frequency table for prime_genre column"
   ]
  },
  {
   "cell_type": "markdown",
   "id": "167eab2f-66a6-4e09-be30-9a1588a2f925",
   "metadata": {},
   "source": [
    "We find Games to be the most common genre followed by Entertainment. We also notice that most apps are designed for fun (games, entertainment, photo & video, social networking, sports, music), while a relatively smaller number of apps are designed for practical purposes (education, shopping, utilities, productivity, lifestyle).\n",
    "\n",
    "Based on this analysis, we would recommend an app profile that falls in the fun category. We can consider Games, Entertainment and Photo & Video as genres of interest. However, as of now, we do not know if these genres have the highest number of users."
   ]
  },
  {
   "cell_type": "code",
   "execution_count": 30,
   "id": "2b996c28-3793-4513-be34-17b20c03b418",
   "metadata": {},
   "outputs": [
    {
     "name": "stdout",
     "output_type": "stream",
     "text": [
      "FAMILY : 18.9079\n",
      "GAME : 9.7247\n",
      "TOOLS : 8.4612\n",
      "BUSINESS : 4.5916\n",
      "LIFESTYLE : 3.9034\n",
      "PRODUCTIVITY : 3.8921\n",
      "FINANCE : 3.7004\n",
      "MEDICAL : 3.5311\n",
      "SPORTS : 3.3958\n",
      "PERSONALIZATION : 3.3168\n",
      "COMMUNICATION : 3.2378\n",
      "HEALTH_AND_FITNESS : 3.0799\n",
      "PHOTOGRAPHY : 2.9445\n",
      "NEWS_AND_MAGAZINES : 2.7978\n",
      "SOCIAL : 2.6625\n",
      "TRAVEL_AND_LOCAL : 2.3353\n",
      "SHOPPING : 2.245\n",
      "BOOKS_AND_REFERENCE : 2.1435\n",
      "DATING : 1.8615\n",
      "VIDEO_PLAYERS : 1.7938\n",
      "MAPS_AND_NAVIGATION : 1.3989\n",
      "FOOD_AND_DRINK : 1.241\n",
      "EDUCATION : 1.162\n",
      "ENTERTAINMENT : 0.9589\n",
      "LIBRARIES_AND_DEMO : 0.9364\n",
      "AUTO_AND_VEHICLES : 0.9251\n",
      "HOUSE_AND_HOME : 0.8236\n",
      "WEATHER : 0.801\n",
      "EVENTS : 0.7107\n",
      "PARENTING : 0.6543\n",
      "ART_AND_DESIGN : 0.6431\n",
      "COMICS : 0.6205\n",
      "BEAUTY : 0.5979\n"
     ]
    }
   ],
   "source": [
    "display_table(android_eng_free, 1)    #frequency table for Category column"
   ]
  },
  {
   "cell_type": "code",
   "execution_count": 31,
   "id": "30457cb9-a0dd-4bd5-866d-79ac5799b4a4",
   "metadata": {},
   "outputs": [
    {
     "name": "stdout",
     "output_type": "stream",
     "text": [
      "Tools : 8.4499\n",
      "Entertainment : 6.0695\n",
      "Education : 5.3475\n",
      "Business : 4.5916\n",
      "Productivity : 3.8921\n",
      "Lifestyle : 3.8921\n",
      "Finance : 3.7004\n",
      "Medical : 3.5311\n",
      "Sports : 3.4634\n",
      "Personalization : 3.3168\n",
      "Communication : 3.2378\n",
      "Action : 3.1024\n",
      "Health & Fitness : 3.0799\n",
      "Photography : 2.9445\n",
      "News & Magazines : 2.7978\n",
      "Social : 2.6625\n",
      "Travel & Local : 2.324\n",
      "Shopping : 2.245\n",
      "Books & Reference : 2.1435\n",
      "Simulation : 2.042\n",
      "Dating : 1.8615\n",
      "Arcade : 1.8502\n",
      "Video Players & Editors : 1.7712\n",
      "Casual : 1.7599\n",
      "Maps & Navigation : 1.3989\n",
      "Food & Drink : 1.241\n",
      "Puzzle : 1.1282\n",
      "Racing : 0.9928\n",
      "Role Playing : 0.9364\n",
      "Libraries & Demo : 0.9364\n",
      "Auto & Vehicles : 0.9251\n",
      "Strategy : 0.9138\n",
      "House & Home : 0.8236\n",
      "Weather : 0.801\n",
      "Events : 0.7107\n",
      "Adventure : 0.6769\n",
      "Comics : 0.6092\n",
      "Beauty : 0.5979\n",
      "Art & Design : 0.5979\n",
      "Parenting : 0.4964\n",
      "Card : 0.4513\n",
      "Casino : 0.4287\n",
      "Trivia : 0.4174\n",
      "Educational;Education : 0.3949\n",
      "Board : 0.3836\n",
      "Educational : 0.3723\n",
      "Education;Education : 0.3384\n",
      "Word : 0.2595\n",
      "Casual;Pretend Play : 0.2369\n",
      "Music : 0.2031\n",
      "Racing;Action & Adventure : 0.1692\n",
      "Puzzle;Brain Games : 0.1692\n",
      "Entertainment;Music & Video : 0.1692\n",
      "Casual;Brain Games : 0.1354\n",
      "Casual;Action & Adventure : 0.1354\n",
      "Arcade;Action & Adventure : 0.1241\n",
      "Action;Action & Adventure : 0.1015\n",
      "Educational;Pretend Play : 0.0903\n",
      "Simulation;Action & Adventure : 0.079\n",
      "Parenting;Education : 0.079\n",
      "Entertainment;Brain Games : 0.079\n",
      "Board;Brain Games : 0.079\n",
      "Parenting;Music & Video : 0.0677\n",
      "Educational;Brain Games : 0.0677\n",
      "Casual;Creativity : 0.0677\n",
      "Art & Design;Creativity : 0.0677\n",
      "Education;Pretend Play : 0.0564\n",
      "Role Playing;Pretend Play : 0.0451\n",
      "Education;Creativity : 0.0451\n",
      "Role Playing;Action & Adventure : 0.0338\n",
      "Puzzle;Action & Adventure : 0.0338\n",
      "Entertainment;Creativity : 0.0338\n",
      "Entertainment;Action & Adventure : 0.0338\n",
      "Educational;Creativity : 0.0338\n",
      "Educational;Action & Adventure : 0.0338\n",
      "Education;Music & Video : 0.0338\n",
      "Education;Brain Games : 0.0338\n",
      "Education;Action & Adventure : 0.0338\n",
      "Adventure;Action & Adventure : 0.0338\n",
      "Video Players & Editors;Music & Video : 0.0226\n",
      "Sports;Action & Adventure : 0.0226\n",
      "Simulation;Pretend Play : 0.0226\n",
      "Puzzle;Creativity : 0.0226\n",
      "Music;Music & Video : 0.0226\n",
      "Entertainment;Pretend Play : 0.0226\n",
      "Casual;Education : 0.0226\n",
      "Board;Action & Adventure : 0.0226\n",
      "Video Players & Editors;Creativity : 0.0113\n",
      "Trivia;Education : 0.0113\n",
      "Travel & Local;Action & Adventure : 0.0113\n",
      "Tools;Education : 0.0113\n",
      "Strategy;Education : 0.0113\n",
      "Strategy;Creativity : 0.0113\n",
      "Strategy;Action & Adventure : 0.0113\n",
      "Simulation;Education : 0.0113\n",
      "Role Playing;Brain Games : 0.0113\n",
      "Racing;Pretend Play : 0.0113\n",
      "Puzzle;Education : 0.0113\n",
      "Parenting;Brain Games : 0.0113\n",
      "Music & Audio;Music & Video : 0.0113\n",
      "Lifestyle;Pretend Play : 0.0113\n",
      "Lifestyle;Education : 0.0113\n",
      "Health & Fitness;Education : 0.0113\n",
      "Health & Fitness;Action & Adventure : 0.0113\n",
      "Entertainment;Education : 0.0113\n",
      "Communication;Creativity : 0.0113\n",
      "Comics;Creativity : 0.0113\n",
      "Casual;Music & Video : 0.0113\n",
      "Card;Action & Adventure : 0.0113\n",
      "Books & Reference;Education : 0.0113\n",
      "Art & Design;Pretend Play : 0.0113\n",
      "Art & Design;Action & Adventure : 0.0113\n",
      "Arcade;Pretend Play : 0.0113\n",
      "Adventure;Education : 0.0113\n"
     ]
    }
   ],
   "source": [
    "display_table(android_eng_free, 9)    #frequency table for Genres column"
   ]
  },
  {
   "cell_type": "markdown",
   "id": "fb9dbec8-4047-4f16-a344-e3916bb3dc29",
   "metadata": {},
   "source": [
    "As we review the genres and categories, we notice that the apps designed for practical pruposes (Tools, Business, Lifestyle, Productivity, Finance) are more or less similar in number to entertainment apps (Games, social, shopping).\n",
    "\n",
    "Let's find out the average number of installs for each genre so that we can identify what genres are most popular. This information is easily available for Google Play Store dataset. However, in case of App Store dataset, we will use the total number of user ratings as a proxy.\n",
    "\n",
    "Let's start with calculating the average number of user ratings per app genre on the App store. The steps we need to undertake:\n",
    "\n",
    "- Isolate the apps of each genre\n",
    "- Add up the user ratings for the apps of that genre\n",
    "- Divide the sum by the number of apps belonging to that genre"
   ]
  },
  {
   "cell_type": "code",
   "execution_count": 32,
   "id": "4afc631f-05e9-40c1-a961-fe8e64612e64",
   "metadata": {},
   "outputs": [],
   "source": [
    "ios_prime_genres = freq_table(ios_eng_free, 11)"
   ]
  },
  {
   "cell_type": "code",
   "execution_count": 33,
   "id": "42df1f74-858b-4430-8437-1f93ce3d919f",
   "metadata": {},
   "outputs": [
    {
     "data": {
      "text/plain": [
       "{'Medical': 612.0,\n",
       " 'Catalogs': 4004.0,\n",
       " 'Education': 7003.983050847458,\n",
       " 'Business': 7491.117647058823,\n",
       " 'Entertainment': 14029.830708661417,\n",
       " 'Lifestyle': 16485.764705882353,\n",
       " 'Utilities': 18684.456790123455,\n",
       " 'Productivity': 21028.410714285714,\n",
       " 'News': 21248.023255813954,\n",
       " 'Games': 22788.6696905016,\n",
       " 'Sports': 23008.898550724636,\n",
       " 'Health & Fitness': 23298.015384615384,\n",
       " 'Shopping': 26919.690476190477,\n",
       " 'Travel': 28243.8,\n",
       " 'Photo & Video': 28441.54375,\n",
       " 'Finance': 31467.944444444445,\n",
       " 'Food & Drink': 33333.92307692308,\n",
       " 'Book': 39758.5,\n",
       " 'Weather': 52279.892857142855,\n",
       " 'Music': 57326.530303030304,\n",
       " 'Social Networking': 71548.34905660378,\n",
       " 'Reference': 74942.11111111111,\n",
       " 'Navigation': 86090.33333333333}"
      ]
     },
     "execution_count": 33,
     "metadata": {},
     "output_type": "execute_result"
    }
   ],
   "source": [
    "for genre in ios_prime_genres:\n",
    "    total = 0\n",
    "    len_genre = 0\n",
    "    for app in ios_eng_free:\n",
    "        genre_app = app[11]\n",
    "        if genre_app == genre:\n",
    "            total += float(app[5])\n",
    "            len_genre += 1\n",
    "    average_rating = total / len_genre\n",
    "    ios_prime_genres[genre] = average_rating\n",
    "    \n",
    "dict(sorted(ios_prime_genres.items(), key=lambda item: item[1]))\n",
    "\n",
    "#     print(genre, ':', average_rating)\n",
    "# print(\"\\nGenre with highest average user ratings: \", max(ios_prime_genres, key=ios_prime_genres.get))"
   ]
  },
  {
   "cell_type": "markdown",
   "id": "4814a4af-cc5f-4db9-8863-6cae7ccdc390",
   "metadata": {},
   "source": [
    "From the analysis of the frequency table, we observe that apps belonging to the Navigation, Reference, Social Networking and Music genres have the highest number of user ratings on average. \n",
    "\n",
    "Let's do a deep dive into these popular genres to explore what kind of apps are included in them."
   ]
  },
  {
   "cell_type": "code",
   "execution_count": 34,
   "id": "b2c70eb8-60c0-4bcf-b5bc-3a4b61c45550",
   "metadata": {},
   "outputs": [
    {
     "name": "stdout",
     "output_type": "stream",
     "text": [
      "[['323229106', 'Waze - GPS Navigation, Maps & Real-time Traffic', '94139392', 'USD', '0.0', '345046', '3040', '4.5', '4.5', '4.24', '4+', 'Navigation', '37', '5', '36', '1'], ['585027354', 'Google Maps - Navigation & Transit', '120232960', 'USD', '0.0', '154911', '1253', '4.5', '4.0', '4.31.1', '12+', 'Navigation', '37', '5', '34', '1'], ['329541503', 'Geocaching®', '108166144', 'USD', '0.0', '12811', '134', '3.5', '1.5', '5.3', '4+', 'Navigation', '37', '0', '22', '1'], ['504677517', 'CoPilot GPS – Car Navigation & Offline Maps', '82534400', 'USD', '0.0', '3582', '70', '4.0', '3.5', '10.0.0.984', '4+', 'Navigation', '38', '5', '25', '1'], ['344176018', 'ImmobilienScout24: Real Estate Search in Germany', '126867456', 'USD', '0.0', '187', '0', '3.5', '0.0', '9.5', '4+', 'Navigation', '37', '5', '3', '1'], ['463431091', 'Railway Route Search', '46950400', 'USD', '0.0', '5', '0', '3.0', '0.0', '3.17.1', '4+', 'Navigation', '37', '0', '1', '1']]\n"
     ]
    }
   ],
   "source": [
    "navigation = []\n",
    "for app in ios_eng_free:\n",
    "    if app[11] == 'Navigation':\n",
    "        navigation.append(app)\n",
    "        \n",
    "print(navigation)"
   ]
  },
  {
   "cell_type": "markdown",
   "id": "41a5f735-20e4-4d9d-89de-d82c7fde832d",
   "metadata": {},
   "source": [
    "### Finding most popular apps on Google Play Store"
   ]
  },
  {
   "cell_type": "code",
   "execution_count": 35,
   "id": "489e5ae0-fe3c-4140-a304-b75513e1a2dc",
   "metadata": {},
   "outputs": [
    {
     "name": "stdout",
     "output_type": "stream",
     "text": [
      "1,000,000+ : 15.7265\n",
      "100,000+ : 11.5523\n",
      "10,000,000+ : 10.5483\n",
      "10,000+ : 10.1986\n",
      "1,000+ : 8.3935\n",
      "100+ : 6.9156\n",
      "5,000,000+ : 6.8254\n",
      "500,000+ : 5.5618\n",
      "50,000+ : 4.7721\n",
      "5,000+ : 4.5126\n",
      "10+ : 3.5424\n",
      "500+ : 3.2491\n",
      "50,000,000+ : 2.3014\n",
      "100,000,000+ : 2.1322\n",
      "50+ : 1.9179\n",
      "5+ : 0.7897\n",
      "1+ : 0.5077\n",
      "500,000,000+ : 0.2708\n",
      "1,000,000,000+ : 0.2256\n",
      "0+ : 0.0451\n",
      "0 : 0.0113\n"
     ]
    }
   ],
   "source": [
    "display_table(android_eng_free, 5)"
   ]
  },
  {
   "cell_type": "code",
   "execution_count": 36,
   "id": "5566db63-295f-4990-a016-513619cc3021",
   "metadata": {},
   "outputs": [],
   "source": [
    "android_category = freq_table(android_eng_free, 1)"
   ]
  },
  {
   "cell_type": "code",
   "execution_count": 37,
   "id": "d7dfadb1-bb36-426d-88d9-4264b6dbfdf8",
   "metadata": {},
   "outputs": [
    {
     "name": "stdout",
     "output_type": "stream",
     "text": [
      "ART_AND_DESIGN : 1986335.0877192982\n",
      "AUTO_AND_VEHICLES : 647317.8170731707\n",
      "BEAUTY : 513151.88679245283\n",
      "BOOKS_AND_REFERENCE : 8767811.894736841\n",
      "BUSINESS : 1712290.1474201474\n",
      "COMICS : 817657.2727272727\n",
      "COMMUNICATION : 38456119.167247385\n",
      "DATING : 854028.8303030303\n",
      "EDUCATION : 1833495.145631068\n",
      "ENTERTAINMENT : 11640705.88235294\n",
      "EVENTS : 253542.22222222222\n",
      "FINANCE : 1387692.475609756\n",
      "FOOD_AND_DRINK : 1924897.7363636363\n",
      "HEALTH_AND_FITNESS : 4188821.9853479853\n",
      "HOUSE_AND_HOME : 1331540.5616438356\n",
      "LIBRARIES_AND_DEMO : 638503.734939759\n",
      "LIFESTYLE : 1437816.2687861272\n",
      "GAME : 15588015.603248259\n",
      "FAMILY : 3695641.8198090694\n",
      "MEDICAL : 120550.61980830671\n",
      "SOCIAL : 23253652.127118643\n",
      "SHOPPING : 7036877.311557789\n",
      "PHOTOGRAPHY : 17840110.40229885\n",
      "SPORTS : 3638640.1428571427\n",
      "TRAVEL_AND_LOCAL : 13984077.710144928\n",
      "TOOLS : 10801391.298666667\n",
      "PERSONALIZATION : 5201482.6122448975\n",
      "PRODUCTIVITY : 16787331.344927534\n",
      "PARENTING : 542603.6206896552\n",
      "WEATHER : 5074486.197183099\n",
      "VIDEO_PLAYERS : 24727872.452830188\n",
      "NEWS_AND_MAGAZINES : 9549178.467741935\n",
      "MAPS_AND_NAVIGATION : 4056941.7741935486\n"
     ]
    }
   ],
   "source": [
    "for category in android_category:\n",
    "    total = 0\n",
    "    len_category = 0\n",
    "    \n",
    "    for app in android_eng_free:\n",
    "        category_app = app[1]\n",
    "        if category_app == category:\n",
    "            n_installs = app[5]\n",
    "            n_installs = n_installs.replace(',', '')\n",
    "            n_installs = n_installs.replace('+', '')\n",
    "            total += float(n_installs)\n",
    "            len_category += 1\n",
    "    average_category = total / len_category\n",
    "    android_category[category] = average_category\n",
    "    print(category, ':', average_category)"
   ]
  },
  {
   "cell_type": "code",
   "execution_count": null,
   "id": "f35796e2-bae9-4d05-b5f7-974465c88fad",
   "metadata": {},
   "outputs": [],
   "source": []
  }
 ],
 "metadata": {
  "kernelspec": {
   "display_name": "Python 3 (ipykernel)",
   "language": "python",
   "name": "python3"
  },
  "language_info": {
   "codemirror_mode": {
    "name": "ipython",
    "version": 3
   },
   "file_extension": ".py",
   "mimetype": "text/x-python",
   "name": "python",
   "nbconvert_exporter": "python",
   "pygments_lexer": "ipython3",
   "version": "3.10.2"
  }
 },
 "nbformat": 4,
 "nbformat_minor": 5
}
